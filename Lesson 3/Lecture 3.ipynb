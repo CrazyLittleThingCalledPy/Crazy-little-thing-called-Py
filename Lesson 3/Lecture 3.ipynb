{
 "cells": [
  {
   "cell_type": "markdown",
   "id": "b33180aa-100f-4455-8ee1-42275921dc38",
   "metadata": {},
   "source": [
    "## Lecture 3"
   ]
  },
  {
   "cell_type": "code",
   "execution_count": 6,
   "id": "5bdc956a-39f8-4108-a811-9a669855e7bf",
   "metadata": {},
   "outputs": [
    {
     "name": "stdin",
     "output_type": "stream",
     "text": [
      "Enter a whole number 0\n"
     ]
    },
    {
     "ename": "ZeroDivisionError",
     "evalue": "division by zero",
     "output_type": "error",
     "traceback": [
      "\u001b[1;31m---------------------------------------------------------------------------\u001b[0m",
      "\u001b[1;31mZeroDivisionError\u001b[0m                         Traceback (most recent call last)",
      "\u001b[1;32m~\\AppData\\Local\\Temp/ipykernel_6424/712633310.py\u001b[0m in \u001b[0;36m<module>\u001b[1;34m\u001b[0m\n\u001b[0;32m      1\u001b[0m \u001b[0mnum\u001b[0m \u001b[1;33m=\u001b[0m \u001b[0mint\u001b[0m\u001b[1;33m(\u001b[0m\u001b[0minput\u001b[0m\u001b[1;33m(\u001b[0m\u001b[1;34m'Enter a whole number'\u001b[0m\u001b[1;33m)\u001b[0m\u001b[1;33m)\u001b[0m\u001b[1;33m\u001b[0m\u001b[1;33m\u001b[0m\u001b[0m\n\u001b[1;32m----> 2\u001b[1;33m \u001b[0mprint\u001b[0m\u001b[1;33m(\u001b[0m\u001b[1;36m10\u001b[0m\u001b[1;33m/\u001b[0m\u001b[0mnum\u001b[0m\u001b[1;33m)\u001b[0m\u001b[1;33m\u001b[0m\u001b[1;33m\u001b[0m\u001b[0m\n\u001b[0m",
      "\u001b[1;31mZeroDivisionError\u001b[0m: division by zero"
     ]
    }
   ],
   "source": [
    "num = int(input('Enter a whole number'))\n",
    "print(10/num)"
   ]
  },
  {
   "cell_type": "code",
   "execution_count": 15,
   "id": "e4d61cf6-5058-4310-a1c9-658effe532ac",
   "metadata": {},
   "outputs": [
    {
     "name": "stdin",
     "output_type": "stream",
     "text": [
      "Enter a whole number -5\n"
     ]
    },
    {
     "name": "stdout",
     "output_type": "stream",
     "text": [
      "-2.0\n"
     ]
    }
   ],
   "source": [
    "try:\n",
    "    num = int(input('Enter a whole number'))\n",
    "    print(10/num)\n",
    "except ZeroDivisionError:\n",
    "    print('Cannot divide by zero')\n",
    "except ValueError:\n",
    "    print('Only whole numbers are allowed') "
   ]
  },
  {
   "cell_type": "markdown",
   "id": "c165ee64-1e49-435b-a5de-8d3acb764cb4",
   "metadata": {},
   "source": [
    "## Functions"
   ]
  },
  {
   "cell_type": "code",
   "execution_count": 16,
   "id": "0c3b8ccd-3380-44c7-aba8-b478c2b2b5a8",
   "metadata": {},
   "outputs": [],
   "source": [
    "def say_hi(name):\n",
    "    print(f'Hello {name}')"
   ]
  },
  {
   "cell_type": "code",
   "execution_count": 17,
   "id": "9fe5a961-9ff4-4723-9fdc-9123cf0387a8",
   "metadata": {},
   "outputs": [
    {
     "name": "stdout",
     "output_type": "stream",
     "text": [
      "Hello Tal\n"
     ]
    }
   ],
   "source": [
    "say_hi('Tal')"
   ]
  },
  {
   "cell_type": "code",
   "execution_count": 18,
   "id": "bdb5bb3e-5a84-4a8d-ac8d-d0fc945259e3",
   "metadata": {},
   "outputs": [],
   "source": [
    "def my_add(a, b):\n",
    "    return a+b"
   ]
  },
  {
   "cell_type": "code",
   "execution_count": 20,
   "id": "2ec12c93-db23-40e5-a9b2-d127d717688a",
   "metadata": {},
   "outputs": [],
   "source": [
    "result = my_add(5, 7.2)"
   ]
  },
  {
   "cell_type": "code",
   "execution_count": 21,
   "id": "ccee3bdb-5e17-47fd-9b8b-e8255f589865",
   "metadata": {},
   "outputs": [
    {
     "data": {
      "text/plain": [
       "12.2"
      ]
     },
     "execution_count": 21,
     "metadata": {},
     "output_type": "execute_result"
    }
   ],
   "source": [
    "result"
   ]
  },
  {
   "cell_type": "code",
   "execution_count": 22,
   "id": "279688f2-5640-43da-9b96-526e794cf97a",
   "metadata": {},
   "outputs": [],
   "source": [
    "def average(list_data):\n",
    "    return sum(list_data)/len(list_data)"
   ]
  },
  {
   "cell_type": "code",
   "execution_count": 23,
   "id": "6244a32e-690d-4e9c-8d67-6f59f6a5beb4",
   "metadata": {},
   "outputs": [],
   "source": [
    "data = [1,2,3,4,5]"
   ]
  },
  {
   "cell_type": "code",
   "execution_count": 24,
   "id": "ac08be2f-8819-470a-86fe-fe95fd70163a",
   "metadata": {},
   "outputs": [
    {
     "data": {
      "text/plain": [
       "3.0"
      ]
     },
     "execution_count": 24,
     "metadata": {},
     "output_type": "execute_result"
    }
   ],
   "source": [
    "average(data)"
   ]
  },
  {
   "cell_type": "code",
   "execution_count": 25,
   "id": "1f8e9d2a-9150-428a-b215-85e807914367",
   "metadata": {},
   "outputs": [],
   "source": [
    "def point_on_line(a, b, x):\n",
    "    '''\n",
    "    Finds the y value on the line y=ax+b for a provided x value\n",
    "    '''\n",
    "    return a*x + b    "
   ]
  },
  {
   "cell_type": "code",
   "execution_count": 27,
   "id": "989d60c8-3ffe-4c24-a7d4-1f4a5d7a5d64",
   "metadata": {},
   "outputs": [
    {
     "data": {
      "text/plain": [
       "\u001b[1;31mSignature:\u001b[0m \u001b[0mpoint_on_line\u001b[0m\u001b[1;33m(\u001b[0m\u001b[0ma\u001b[0m\u001b[1;33m,\u001b[0m \u001b[0mb\u001b[0m\u001b[1;33m,\u001b[0m \u001b[0mx\u001b[0m\u001b[1;33m)\u001b[0m\u001b[1;33m\u001b[0m\u001b[1;33m\u001b[0m\u001b[0m\n",
       "\u001b[1;31mDocstring:\u001b[0m Finds the y value on the line y=ax+b for a provided x value\n",
       "\u001b[1;31mFile:\u001b[0m      c:\\users\\alont\\appdata\\local\\temp\\ipykernel_6424\\4111223416.py\n",
       "\u001b[1;31mType:\u001b[0m      function\n"
      ]
     },
     "metadata": {},
     "output_type": "display_data"
    }
   ],
   "source": [
    "point_on_line?"
   ]
  },
  {
   "cell_type": "code",
   "execution_count": 28,
   "id": "655ff018-ead2-4fe7-83fb-f329796c8872",
   "metadata": {},
   "outputs": [],
   "source": [
    "def calculate_statistics(list_data):\n",
    "    mx = max(list_data)\n",
    "    mn = min(list_data)\n",
    "    av = average(list_data)\n",
    "    return mx, mn, av"
   ]
  },
  {
   "cell_type": "code",
   "execution_count": 29,
   "id": "ef38b045-5aea-4617-9868-ea4258a75bef",
   "metadata": {},
   "outputs": [
    {
     "data": {
      "text/plain": [
       "[1, 2, 3, 4, 5]"
      ]
     },
     "execution_count": 29,
     "metadata": {},
     "output_type": "execute_result"
    }
   ],
   "source": [
    "data"
   ]
  },
  {
   "cell_type": "code",
   "execution_count": 31,
   "id": "59ab9d01-44ea-4c14-91f3-4118879422e4",
   "metadata": {},
   "outputs": [],
   "source": [
    "result = calculate_statistics(data)"
   ]
  },
  {
   "cell_type": "code",
   "execution_count": 52,
   "id": "fce9e4ba-76c6-4f4f-a7e3-5db125e05a51",
   "metadata": {},
   "outputs": [],
   "source": [
    "mx, mn, av = calculate_statistics(data)"
   ]
  },
  {
   "cell_type": "code",
   "execution_count": 35,
   "id": "34b74252-a613-4131-b8fc-2b911c2b5c50",
   "metadata": {},
   "outputs": [
    {
     "data": {
      "text/plain": [
       "3"
      ]
     },
     "execution_count": 51,
     "metadata": {},
     "output_type": "execute_result"
    }
   ],
   "source": [
    "mx"
   ]
  },
  {
   "cell_type": "code",
   "execution_count": 36,
   "id": "acad5e9a-d6f4-4d14-b6a1-de680af71805",
   "metadata": {},
   "outputs": [
    {
     "data": {
      "text/plain": [
       "1"
      ]
     },
     "execution_count": 36,
     "metadata": {},
     "output_type": "execute_result"
    }
   ],
   "source": [
    "mn"
   ]
  },
  {
   "cell_type": "code",
   "execution_count": 37,
   "id": "c59f5197-99af-442a-81e0-c9dbf706677f",
   "metadata": {},
   "outputs": [
    {
     "data": {
      "text/plain": [
       "3.0"
      ]
     },
     "execution_count": 37,
     "metadata": {},
     "output_type": "execute_result"
    }
   ],
   "source": [
    "av"
   ]
  },
  {
   "cell_type": "code",
   "execution_count": 53,
   "id": "35316299-c58e-4c2e-b719-e3bfc260c00d",
   "metadata": {},
   "outputs": [
    {
     "data": {
      "text/plain": [
       "3"
      ]
     },
     "execution_count": 53,
     "metadata": {},
     "output_type": "execute_result"
    }
   ],
   "source": [
    "len(result)"
   ]
  },
  {
   "cell_type": "code",
   "execution_count": 54,
   "id": "19fcf09b-d5af-4d44-851e-f60537aacb72",
   "metadata": {},
   "outputs": [
    {
     "name": "stdout",
     "output_type": "stream",
     "text": [
      "5\n",
      "1\n",
      "3.0\n"
     ]
    }
   ],
   "source": [
    "for item in result:\n",
    "    print(item)"
   ]
  },
  {
   "cell_type": "code",
   "execution_count": 38,
   "id": "fa9844e3-87a6-4674-9257-d0a9adf66ed3",
   "metadata": {},
   "outputs": [],
   "source": [
    "outside = 5\n",
    "\n",
    "def read_outside():\n",
    "    print(outside)"
   ]
  },
  {
   "cell_type": "code",
   "execution_count": 39,
   "id": "5636e44f-b3a5-444e-9aeb-5443d53a3f4d",
   "metadata": {},
   "outputs": [
    {
     "name": "stdout",
     "output_type": "stream",
     "text": [
      "5\n"
     ]
    }
   ],
   "source": [
    "read_outside()"
   ]
  },
  {
   "cell_type": "code",
   "execution_count": 44,
   "id": "b792bbe3-7380-4b9e-9bb4-625de9486cae",
   "metadata": {},
   "outputs": [],
   "source": [
    "def change_outside():\n",
    "    global outside\n",
    "    outside = 10\n",
    "    print(outside)"
   ]
  },
  {
   "cell_type": "code",
   "execution_count": 45,
   "id": "a9f6cf9c-52c2-4b2b-becd-e3ffe3400f4b",
   "metadata": {},
   "outputs": [
    {
     "name": "stdout",
     "output_type": "stream",
     "text": [
      "10\n"
     ]
    }
   ],
   "source": [
    "change_outside()"
   ]
  },
  {
   "cell_type": "code",
   "execution_count": 46,
   "id": "920ff4da-3463-44fc-aed1-785aff91529b",
   "metadata": {},
   "outputs": [
    {
     "data": {
      "text/plain": [
       "10"
      ]
     },
     "execution_count": 46,
     "metadata": {},
     "output_type": "execute_result"
    }
   ],
   "source": [
    "outside"
   ]
  },
  {
   "cell_type": "code",
   "execution_count": 74,
   "id": "84e1da4f-fdf7-4984-bded-ef0ebe2b575e",
   "metadata": {},
   "outputs": [],
   "source": [
    "def my_power(a, power=1, offset=0):\n",
    "    return a**power+offset"
   ]
  },
  {
   "cell_type": "code",
   "execution_count": 68,
   "id": "c0caf9f6-e140-423c-b1b2-2419d8e72ff4",
   "metadata": {},
   "outputs": [
    {
     "data": {
      "text/plain": [
       "1024"
      ]
     },
     "execution_count": 68,
     "metadata": {},
     "output_type": "execute_result"
    }
   ],
   "source": [
    "my_power(2,10)"
   ]
  },
  {
   "cell_type": "code",
   "execution_count": 69,
   "id": "215ef33b-cf5a-4c5d-927a-da5fe63df402",
   "metadata": {},
   "outputs": [
    {
     "data": {
      "text/plain": [
       "12"
      ]
     },
     "execution_count": 69,
     "metadata": {},
     "output_type": "execute_result"
    }
   ],
   "source": [
    "my_power(12)"
   ]
  },
  {
   "cell_type": "code",
   "execution_count": 70,
   "id": "ca3bdffd-e2c8-4d01-9697-7fc3b84a15f6",
   "metadata": {},
   "outputs": [
    {
     "data": {
      "text/plain": [
       "289"
      ]
     },
     "execution_count": 70,
     "metadata": {},
     "output_type": "execute_result"
    }
   ],
   "source": [
    "my_power(17, power=2)"
   ]
  },
  {
   "cell_type": "code",
   "execution_count": 71,
   "id": "d0869577-0067-42cc-8feb-42af340aa34a",
   "metadata": {},
   "outputs": [
    {
     "data": {
      "text/plain": [
       "27"
      ]
     },
     "execution_count": 71,
     "metadata": {},
     "output_type": "execute_result"
    }
   ],
   "source": [
    "my_power(17, offset=10)"
   ]
  },
  {
   "cell_type": "code",
   "execution_count": 82,
   "id": "d410fb77-58d3-41f1-8e7d-ce4e2264eadc",
   "metadata": {},
   "outputs": [
    {
     "data": {
      "text/plain": [
       "1124"
      ]
     },
     "execution_count": 82,
     "metadata": {},
     "output_type": "execute_result"
    }
   ],
   "source": [
    "my_power(2, offset=100, power=10)"
   ]
  },
  {
   "cell_type": "code",
   "execution_count": 79,
   "id": "df7ce94e-9b16-4f86-8bec-2cc112e01372",
   "metadata": {},
   "outputs": [],
   "source": [
    "def say_hi(name, cap=True):\n",
    "    if cap:\n",
    "        name = name.capitalize()\n",
    "    print(f'Hello {name}')"
   ]
  },
  {
   "cell_type": "code",
   "execution_count": 81,
   "id": "5c1cf4a6-1c97-4eb1-ad8f-af9c5d7e41e2",
   "metadata": {},
   "outputs": [
    {
     "name": "stdout",
     "output_type": "stream",
     "text": [
      "Hello tal\n"
     ]
    }
   ],
   "source": [
    "say_hi('tal', cap=False)"
   ]
  },
  {
   "cell_type": "markdown",
   "id": "87bb4f54-fb79-4282-810d-54be2c3d5a0b",
   "metadata": {},
   "source": [
    "## key"
   ]
  },
  {
   "cell_type": "code",
   "execution_count": 127,
   "id": "70461744-ad99-4133-9142-3bd3a0c6ab97",
   "metadata": {},
   "outputs": [],
   "source": [
    "data = [7,2,5,-3,21,-35,0,16]"
   ]
  },
  {
   "cell_type": "code",
   "execution_count": 101,
   "id": "1d519190-3a44-4ae7-b511-745b0681e710",
   "metadata": {},
   "outputs": [
    {
     "data": {
      "text/plain": [
       "[-35, -3, 0, 2, 5, 7, 16, 21]"
      ]
     },
     "execution_count": 101,
     "metadata": {},
     "output_type": "execute_result"
    }
   ],
   "source": [
    "sorted(data)"
   ]
  },
  {
   "cell_type": "code",
   "execution_count": 102,
   "id": "0adc5dbd-1df4-4105-8032-b657bf662a27",
   "metadata": {},
   "outputs": [
    {
     "data": {
      "text/plain": [
       "[0, 2, -3, 5, 7, 16, 21, -35]"
      ]
     },
     "execution_count": 102,
     "metadata": {},
     "output_type": "execute_result"
    }
   ],
   "source": [
    "sorted(data, key=abs)"
   ]
  },
  {
   "cell_type": "code",
   "execution_count": 103,
   "id": "6ec6a38d-8ac1-48f6-989a-a8a017be0299",
   "metadata": {},
   "outputs": [
    {
     "data": {
      "text/plain": [
       "(-35, -3, 0, 2, 5, 7, 16, 21)"
      ]
     },
     "execution_count": 103,
     "metadata": {},
     "output_type": "execute_result"
    }
   ],
   "source": [
    "data"
   ]
  },
  {
   "cell_type": "code",
   "execution_count": 108,
   "id": "6049d57e-0240-461c-8498-d19f0a0f6ce7",
   "metadata": {},
   "outputs": [
    {
     "data": {
      "text/plain": [
       "3"
      ]
     },
     "execution_count": 108,
     "metadata": {},
     "output_type": "execute_result"
    }
   ],
   "source": [
    "len(str(-56))"
   ]
  },
  {
   "cell_type": "code",
   "execution_count": 110,
   "id": "8351b11a-2980-4f48-82cf-043c36be4bb1",
   "metadata": {
    "tags": []
   },
   "outputs": [],
   "source": [
    "def number_of_digits(num):\n",
    "    return len(str(num))"
   ]
  },
  {
   "cell_type": "code",
   "execution_count": 111,
   "id": "ed52d611-e16c-4af0-84d5-00ebb8e93483",
   "metadata": {},
   "outputs": [
    {
     "data": {
      "text/plain": [
       "[0, 2, 5, 7, -3, 16, 21, -35]"
      ]
     },
     "execution_count": 111,
     "metadata": {},
     "output_type": "execute_result"
    }
   ],
   "source": [
    "sorted(data, key=number_of_digits)"
   ]
  },
  {
   "cell_type": "code",
   "execution_count": 112,
   "id": "ebb7fcf5-450f-43fd-ad29-66651d3264d8",
   "metadata": {},
   "outputs": [
    {
     "data": {
      "text/plain": [
       "21"
      ]
     },
     "execution_count": 112,
     "metadata": {},
     "output_type": "execute_result"
    }
   ],
   "source": [
    "max(data)"
   ]
  },
  {
   "cell_type": "code",
   "execution_count": 113,
   "id": "b4bd3e93-2a2f-4a7c-9403-3e09ed643c80",
   "metadata": {},
   "outputs": [
    {
     "data": {
      "text/plain": [
       "(-35, -3, 0, 2, 5, 7, 16, 21)"
      ]
     },
     "execution_count": 113,
     "metadata": {},
     "output_type": "execute_result"
    }
   ],
   "source": [
    "data"
   ]
  },
  {
   "cell_type": "code",
   "execution_count": 114,
   "id": "6d816e5a-630e-4380-93b8-5cbbfcb19074",
   "metadata": {},
   "outputs": [
    {
     "data": {
      "text/plain": [
       "-35"
      ]
     },
     "execution_count": 114,
     "metadata": {},
     "output_type": "execute_result"
    }
   ],
   "source": [
    "min(data)"
   ]
  },
  {
   "cell_type": "code",
   "execution_count": 115,
   "id": "f90f8c22-d2ac-452e-a4a3-613af61b7385",
   "metadata": {},
   "outputs": [
    {
     "data": {
      "text/plain": [
       "-35"
      ]
     },
     "execution_count": 115,
     "metadata": {},
     "output_type": "execute_result"
    }
   ],
   "source": [
    "max(data, key=number_of_digits)"
   ]
  },
  {
   "cell_type": "code",
   "execution_count": 116,
   "id": "9e82ada3-d913-4a65-8e1c-a4406094ec75",
   "metadata": {},
   "outputs": [
    {
     "data": {
      "text/plain": [
       "-35"
      ]
     },
     "execution_count": 116,
     "metadata": {},
     "output_type": "execute_result"
    }
   ],
   "source": [
    "max(data, key=abs)"
   ]
  },
  {
   "cell_type": "code",
   "execution_count": 117,
   "id": "214e2747-b3b4-4af3-8c40-601e92f7af78",
   "metadata": {},
   "outputs": [
    {
     "data": {
      "text/plain": [
       "(-35, -3, 0, 2, 5, 7, 16, 21)"
      ]
     },
     "execution_count": 117,
     "metadata": {},
     "output_type": "execute_result"
    }
   ],
   "source": [
    "data"
   ]
  },
  {
   "cell_type": "code",
   "execution_count": 118,
   "id": "9faf1131-f30e-4e9f-892a-6f41ee93b44b",
   "metadata": {},
   "outputs": [],
   "source": [
    "def right_digit(num):\n",
    "    return abs(num)%10"
   ]
  },
  {
   "cell_type": "code",
   "execution_count": 121,
   "id": "ec4b74f3-b53d-4cb1-aff9-bddb0844500c",
   "metadata": {},
   "outputs": [
    {
     "data": {
      "text/plain": [
       "8"
      ]
     },
     "execution_count": 121,
     "metadata": {},
     "output_type": "execute_result"
    }
   ],
   "source": [
    "right_digit(-4235328)"
   ]
  },
  {
   "cell_type": "code",
   "execution_count": 122,
   "id": "1945f6d5-3cf2-4829-929f-f40585589e36",
   "metadata": {},
   "outputs": [
    {
     "data": {
      "text/plain": [
       "[0, 21, 2, -3, -35, 5, 16, 7]"
      ]
     },
     "execution_count": 122,
     "metadata": {},
     "output_type": "execute_result"
    }
   ],
   "source": [
    "sorted(data, key=right_digit)"
   ]
  },
  {
   "cell_type": "code",
   "execution_count": 123,
   "id": "2766e7b4-ae48-42f4-bda0-b3f10197a878",
   "metadata": {},
   "outputs": [
    {
     "data": {
      "text/plain": [
       "[0, 2, 5, 7, -3, 16, 21, -35]"
      ]
     },
     "execution_count": 123,
     "metadata": {},
     "output_type": "execute_result"
    }
   ],
   "source": [
    "sorted(data, key=lambda num: len(str(num)))"
   ]
  },
  {
   "cell_type": "code",
   "execution_count": 124,
   "id": "60ba862c-4d37-4dc0-80cb-9f26b6176a39",
   "metadata": {},
   "outputs": [],
   "source": [
    "test_function = lambda num: len(str(num))"
   ]
  },
  {
   "cell_type": "code",
   "execution_count": 125,
   "id": "11d462c6-61d0-4774-9c71-22f13c61daa2",
   "metadata": {},
   "outputs": [
    {
     "data": {
      "text/plain": [
       "4"
      ]
     },
     "execution_count": 125,
     "metadata": {},
     "output_type": "execute_result"
    }
   ],
   "source": [
    "test_function(5654)"
   ]
  },
  {
   "cell_type": "code",
   "execution_count": 128,
   "id": "d1b90b78-91e4-4382-95aa-abdd675c99f9",
   "metadata": {},
   "outputs": [
    {
     "data": {
      "text/plain": [
       "[7, 2, 5, -3, 21, -35, 0, 16]"
      ]
     },
     "execution_count": 128,
     "metadata": {},
     "output_type": "execute_result"
    }
   ],
   "source": [
    "data"
   ]
  },
  {
   "cell_type": "code",
   "execution_count": 131,
   "id": "5e0db365-630a-4e53-96ec-0371eb1a3968",
   "metadata": {},
   "outputs": [
    {
     "data": {
      "text/plain": [
       "[7, 2, 5, 3, 21, 35, 0, 16]"
      ]
     },
     "execution_count": 131,
     "metadata": {},
     "output_type": "execute_result"
    }
   ],
   "source": [
    "list(map(abs, data))"
   ]
  },
  {
   "cell_type": "code",
   "execution_count": 133,
   "id": "b1933211-6b4e-4c1c-b274-5a1f96246633",
   "metadata": {},
   "outputs": [
    {
     "data": {
      "text/plain": [
       "[8, 3, 6, -2, 22, -34, 1, 17]"
      ]
     },
     "execution_count": 133,
     "metadata": {},
     "output_type": "execute_result"
    }
   ],
   "source": [
    "list(map(lambda x: x+1, data))"
   ]
  },
  {
   "cell_type": "code",
   "execution_count": 134,
   "id": "8cc3e2b1-b2f2-4335-8af1-5ca272d9541f",
   "metadata": {},
   "outputs": [
    {
     "data": {
      "text/plain": [
       "[7, 2, 5, 21, 0, 16]"
      ]
     },
     "execution_count": 134,
     "metadata": {},
     "output_type": "execute_result"
    }
   ],
   "source": [
    "def positive(num):\n",
    "    if num >= 0:\n",
    "        return True\n",
    "    else:\n",
    "        return False\n",
    "\n",
    "list(filter(positive, data))"
   ]
  },
  {
   "cell_type": "code",
   "execution_count": 135,
   "id": "68ad975b-d082-4ebc-bdd6-3e01d677efcb",
   "metadata": {},
   "outputs": [
    {
     "data": {
      "text/plain": [
       "[7, 2, 5, -3, 21, -35, 0, 16]"
      ]
     },
     "execution_count": 135,
     "metadata": {},
     "output_type": "execute_result"
    }
   ],
   "source": [
    "data"
   ]
  },
  {
   "cell_type": "markdown",
   "id": "c691a6c4-080c-476b-8744-5c499f7b791e",
   "metadata": {},
   "source": [
    "## Disctionaries - 'get' and sorting"
   ]
  },
  {
   "cell_type": "code",
   "execution_count": 203,
   "id": "d046c9aa-c74f-49b1-8043-0c4598656a83",
   "metadata": {},
   "outputs": [],
   "source": [
    "from csv import reader\n",
    "fp = open('PlayStore.csv', encoding='utf-8')\n",
    "csv_object = reader(fp)\n",
    "data = list(csv_object)\n",
    "fp.close()\n",
    "\n",
    "categories = {}\n",
    "for app in data[1:]:\n",
    "    category = app[2]\n",
    "    categories[category] = categories.get(category, 0) + 1"
   ]
  },
  {
   "cell_type": "code",
   "execution_count": 204,
   "id": "b1069906-99c9-4f46-9eb2-de6f46e67fac",
   "metadata": {},
   "outputs": [
    {
     "data": {
      "text/plain": [
       "{'ART_AND_DESIGN': 61,\n",
       " 'AUTO_AND_VEHICLES': 73,\n",
       " 'BEAUTY': 42,\n",
       " 'BOOKS_AND_REFERENCE': 178,\n",
       " 'BUSINESS': 303,\n",
       " 'COMICS': 58,\n",
       " 'COMMUNICATION': 328,\n",
       " 'DATING': 195,\n",
       " 'EDUCATION': 155,\n",
       " 'ENTERTAINMENT': 149,\n",
       " 'EVENTS': 45,\n",
       " 'FINANCE': 323,\n",
       " 'FOOD_AND_DRINK': 109,\n",
       " 'HEALTH_AND_FITNESS': 297,\n",
       " 'HOUSE_AND_HOME': 76,\n",
       " 'LIBRARIES_AND_DEMO': 64,\n",
       " 'LIFESTYLE': 314,\n",
       " 'GAME': 1097,\n",
       " 'FAMILY': 1746,\n",
       " 'MEDICAL': 350,\n",
       " 'SOCIAL': 259,\n",
       " 'SHOPPING': 238,\n",
       " 'PHOTOGRAPHY': 317,\n",
       " 'SPORTS': 319,\n",
       " 'TRAVEL_AND_LOCAL': 226,\n",
       " 'TOOLS': 733,\n",
       " 'PERSONALIZATION': 312,\n",
       " 'PRODUCTIVITY': 351,\n",
       " 'PARENTING': 50,\n",
       " 'WEATHER': 75,\n",
       " 'VIDEO_PLAYERS': 160,\n",
       " 'NEWS_AND_MAGAZINES': 233,\n",
       " 'MAPS_AND_NAVIGATION': 124}"
      ]
     },
     "execution_count": 204,
     "metadata": {},
     "output_type": "execute_result"
    }
   ],
   "source": [
    "categories"
   ]
  },
  {
   "cell_type": "code",
   "execution_count": 200,
   "id": "6858f60a-d8be-4740-b45a-d3dba71e804d",
   "metadata": {},
   "outputs": [
    {
     "data": {
      "text/plain": [
       "[('BEAUTY', 42),\n",
       " ('EVENTS', 45),\n",
       " ('PARENTING', 50),\n",
       " ('COMICS', 58),\n",
       " ('ART_AND_DESIGN', 61),\n",
       " ('LIBRARIES_AND_DEMO', 64),\n",
       " ('AUTO_AND_VEHICLES', 73),\n",
       " ('WEATHER', 75),\n",
       " ('HOUSE_AND_HOME', 76),\n",
       " ('FOOD_AND_DRINK', 109),\n",
       " ('MAPS_AND_NAVIGATION', 124),\n",
       " ('ENTERTAINMENT', 149),\n",
       " ('EDUCATION', 155),\n",
       " ('VIDEO_PLAYERS', 160),\n",
       " ('BOOKS_AND_REFERENCE', 178),\n",
       " ('DATING', 195),\n",
       " ('TRAVEL_AND_LOCAL', 226),\n",
       " ('NEWS_AND_MAGAZINES', 233),\n",
       " ('SHOPPING', 238),\n",
       " ('SOCIAL', 259),\n",
       " ('HEALTH_AND_FITNESS', 297),\n",
       " ('BUSINESS', 303),\n",
       " ('PERSONALIZATION', 312),\n",
       " ('LIFESTYLE', 314),\n",
       " ('PHOTOGRAPHY', 317),\n",
       " ('SPORTS', 319),\n",
       " ('FINANCE', 323),\n",
       " ('COMMUNICATION', 328),\n",
       " ('MEDICAL', 350),\n",
       " ('PRODUCTIVITY', 351),\n",
       " ('TOOLS', 733),\n",
       " ('GAME', 1097),\n",
       " ('FAMILY', 1746)]"
      ]
     },
     "execution_count": 200,
     "metadata": {},
     "output_type": "execute_result"
    }
   ],
   "source": [
    "sorted(list(categories.items()), key=lambda pair: pair[1])"
   ]
  },
  {
   "cell_type": "code",
   "execution_count": 201,
   "id": "430b64e9-925b-491c-a1d0-80bf776fd17a",
   "metadata": {},
   "outputs": [
    {
     "data": {
      "text/plain": [
       "1097"
      ]
     },
     "execution_count": 201,
     "metadata": {},
     "output_type": "execute_result"
    }
   ],
   "source": [
    "categories['GAME']"
   ]
  },
  {
   "cell_type": "code",
   "execution_count": 208,
   "id": "b67e7d5e-d499-4c8b-830e-98892dc44244",
   "metadata": {},
   "outputs": [
    {
     "data": {
      "text/plain": [
       "0"
      ]
     },
     "execution_count": 208,
     "metadata": {},
     "output_type": "execute_result"
    }
   ],
   "source": [
    "categories.get('gdfgh', 0)"
   ]
  },
  {
   "cell_type": "code",
   "execution_count": 209,
   "id": "af05bf63-6752-4c2f-a352-d711e5ff78e7",
   "metadata": {},
   "outputs": [
    {
     "data": {
      "text/plain": [
       "1097"
      ]
     },
     "execution_count": 209,
     "metadata": {},
     "output_type": "execute_result"
    }
   ],
   "source": [
    "categories.get('GAME')"
   ]
  },
  {
   "cell_type": "code",
   "execution_count": 212,
   "id": "463a9418-e9cb-4b6b-8133-4b6f69754b56",
   "metadata": {},
   "outputs": [
    {
     "name": "stdout",
     "output_type": "stream",
     "text": [
      "FAMILY 1746\n",
      "GAME 1097\n",
      "TOOLS 733\n",
      "PRODUCTIVITY 351\n",
      "MEDICAL 350\n",
      "COMMUNICATION 328\n",
      "FINANCE 323\n",
      "SPORTS 319\n",
      "PHOTOGRAPHY 317\n",
      "LIFESTYLE 314\n",
      "PERSONALIZATION 312\n",
      "BUSINESS 303\n",
      "HEALTH_AND_FITNESS 297\n",
      "SOCIAL 259\n",
      "SHOPPING 238\n",
      "NEWS_AND_MAGAZINES 233\n",
      "TRAVEL_AND_LOCAL 226\n",
      "DATING 195\n",
      "BOOKS_AND_REFERENCE 178\n",
      "VIDEO_PLAYERS 160\n",
      "EDUCATION 155\n",
      "ENTERTAINMENT 149\n",
      "MAPS_AND_NAVIGATION 124\n",
      "FOOD_AND_DRINK 109\n",
      "HOUSE_AND_HOME 76\n",
      "WEATHER 75\n",
      "AUTO_AND_VEHICLES 73\n",
      "LIBRARIES_AND_DEMO 64\n",
      "ART_AND_DESIGN 61\n",
      "COMICS 58\n",
      "PARENTING 50\n",
      "EVENTS 45\n",
      "BEAUTY 42\n"
     ]
    }
   ],
   "source": [
    "for category in sorted(categories, key=categories.get, reverse=True):\n",
    "    print(category, categories[category])"
   ]
  },
  {
   "cell_type": "code",
   "execution_count": null,
   "id": "4208c438-132b-42d0-a6c9-33ae70cd9d69",
   "metadata": {},
   "outputs": [],
   "source": []
  }
 ],
 "metadata": {
  "kernelspec": {
   "display_name": "Python 3 (ipykernel)",
   "language": "python",
   "name": "python3"
  },
  "language_info": {
   "codemirror_mode": {
    "name": "ipython",
    "version": 3
   },
   "file_extension": ".py",
   "mimetype": "text/x-python",
   "name": "python",
   "nbconvert_exporter": "python",
   "pygments_lexer": "ipython3",
   "version": "3.9.7"
  }
 },
 "nbformat": 4,
 "nbformat_minor": 5
}
