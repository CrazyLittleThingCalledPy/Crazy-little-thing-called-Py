{
 "cells": [
  {
   "cell_type": "markdown",
   "metadata": {},
   "source": [
    "# Crazy little thing called Py - Exercise lesson 3\n",
    "by Dr. Tal Alon, 2022"
   ]
  },
  {
   "cell_type": "markdown",
   "metadata": {},
   "source": [
    "## Using Functions, Map and Filter"
   ]
  },
  {
   "cell_type": "markdown",
   "metadata": {},
   "source": [
    "The following code reads the 'heights.csv' file into a list of lists.\n",
    "\n",
    "Run it.\n",
    "\n",
    "Notice that I do it a little more concisely this time. This file holds 1000 made up heights, in meters."
   ]
  },
  {
   "cell_type": "code",
   "execution_count": null,
   "metadata": {
    "tags": []
   },
   "outputs": [],
   "source": [
    "from csv import reader\n",
    "with open('heights.csv') as fp:\n",
    "    data = list(reader(fp))"
   ]
  },
  {
   "cell_type": "markdown",
   "metadata": {},
   "source": [
    "#### a\n",
    "\n",
    "First, notice that all the data is in one line, but the structure is still of a 'list of lists', so that this entire line is at data[0].\n",
    "I would just change it to data = data[0] to make things simpler, but it is up to you.\n",
    "\n",
    "Instead of using a loop, use the 'map' function to convert all the value strings into actual float values (you can overwrite 'data')"
   ]
  },
  {
   "cell_type": "code",
   "execution_count": null,
   "metadata": {},
   "outputs": [],
   "source": []
  },
  {
   "cell_type": "markdown",
   "metadata": {},
   "source": [
    "#### b\n",
    "\n",
    "Write a function called 'average' that takes a list of numeric values as an agrument and returns the sum of all the values"
   ]
  },
  {
   "cell_type": "code",
   "execution_count": null,
   "metadata": {},
   "outputs": [],
   "source": []
  },
  {
   "cell_type": "markdown",
   "metadata": {},
   "source": [
    "#### c\n",
    "\n",
    "Use the 'average' function you created to calculate the average height. You should get 1.6909699999999996."
   ]
  },
  {
   "cell_type": "code",
   "execution_count": null,
   "metadata": {},
   "outputs": [],
   "source": []
  },
  {
   "cell_type": "markdown",
   "metadata": {},
   "source": [
    "#### d\n",
    "\n",
    "Use the 'filter' function to create a new data set of heights that are above or equal to 1.70 m. You can use lambda to do it (try).\n",
    "\n",
    "How many are there? (there are 483)"
   ]
  },
  {
   "cell_type": "code",
   "execution_count": null,
   "metadata": {},
   "outputs": [],
   "source": []
  },
  {
   "cell_type": "markdown",
   "metadata": {},
   "source": [
    "#### e\n",
    "\n",
    "Use the same 'average' function you created to calculate the average of this new data set. You should get 1.853395445134575.\n",
    "\n",
    "This is why we have functions, to use again and a again and save ourselves time and make our code shorter and more readable and free of bugs."
   ]
  },
  {
   "cell_type": "code",
   "execution_count": null,
   "metadata": {},
   "outputs": [],
   "source": []
  },
  {
   "cell_type": "markdown",
   "metadata": {},
   "source": [
    "## Analyzing a data set"
   ]
  },
  {
   "cell_type": "markdown",
   "metadata": {},
   "source": [
    "I have supplied you with a new dataset: amazon jobs and their descriptions, scraped from their website. We are going to dig into it using the things we learned and some new things I am going to teach you here. \n",
    "\n",
    "I tried to provide you with as little help I could... so you can test your growing skills. If you do need help you can look at the bottom of this notebook for it.\n",
    "\n",
    "Also, I added my results below for comparison, so check yourselves.\n",
    "\n",
    "Share parts of your code if you have problems or if you want to show something cool you did.\n",
    "\n",
    "Good luck!"
   ]
  },
  {
   "cell_type": "markdown",
   "metadata": {
    "tags": []
   },
   "source": [
    "#### Task 0:\n",
    "\n",
    "Use Excel or just a text editor to open the two files provided: 'amazon_jobs_dataset.csv'  and 'country codes.csv'. Go over the column titles, and try to understand what the data looks like. This step is actually the first step in every data analysis project.... looking at the data."
   ]
  },
  {
   "cell_type": "code",
   "execution_count": null,
   "metadata": {},
   "outputs": [],
   "source": []
  },
  {
   "cell_type": "markdown",
   "metadata": {},
   "source": [
    "#### Task 1:\n",
    "\n",
    "Using the csv reading technique we used before, open the file 'amazon_jobs_dataset.csv' with encoding='utf-8' and read it into a list of lists."
   ]
  },
  {
   "cell_type": "code",
   "execution_count": null,
   "metadata": {},
   "outputs": [],
   "source": []
  },
  {
   "cell_type": "markdown",
   "metadata": {},
   "source": [
    "#### Task 2:\n",
    "\n",
    "In the same way create a dictionary of country codes (not a list) from the file 'country_codes.csv'. Can you figure out how to do this on your own? look at how we created a list.... how can we create a dictionary instead? If you need more detailed instructions you can look at the bottom of this notebook for it."
   ]
  },
  {
   "cell_type": "code",
   "execution_count": null,
   "metadata": {},
   "outputs": [],
   "source": []
  },
  {
   "cell_type": "markdown",
   "metadata": {},
   "source": [
    "#### Task 3:\n",
    "\n",
    "Go over the 'BASIC QUALIFICATIONS' column and analyze it to see how many times one of the next programming languages appear in them: Python, C++, and C#. There can be several languages specified in each job posting (they all should be counted).\n",
    "\n",
    "Recommendation: start with a non-empty dictionary, that already have values of 0 for each of the languages.\n",
    "\n",
    "Compare your results to mine, see them at the bottom of this notebook."
   ]
  },
  {
   "cell_type": "code",
   "execution_count": null,
   "metadata": {},
   "outputs": [],
   "source": []
  },
  {
   "cell_type": "markdown",
   "metadata": {},
   "source": [
    "#### Task 4:\n",
    "\n",
    "Go over the 'Title' column, it holds the job titles.<br>\n",
    "Print out all job titles that appear 10 or more times, sorted from most appearnaces to least, alog with the number of apearances.\n",
    "\n",
    "Compare your results to mine, see them at the bottom of this notebook."
   ]
  },
  {
   "cell_type": "code",
   "execution_count": null,
   "metadata": {},
   "outputs": [],
   "source": []
  },
  {
   "cell_type": "markdown",
   "metadata": {},
   "source": [
    "#### Task 5:\n",
    "\n",
    "This task is special, and here is why: \n",
    "\n",
    "1. It requires you to use something I did not teach at my lecture - which is sets. Sets are like dictionaries, but they only hold keys (no values). So every key is unique, just like in a dictionary. If we turn a list into a set (by using the function 'set', for example set(my_list)), we get a set (obviously) holding all the unique values in the list (no duplicates). We can turn the set back into a list (using the 'list' function) if we want. Also, you add a value to a set using its 'add' method.\n",
    "\n",
    "2. It is more complicated than usual, as it requires using both data sets and several accessing techniques, as well as string manipulation techniques. It is best if you try it with no additional help, but if you do want help look for it at the bottom of this notebook.\n",
    "\n",
    "Ok, here is the task itself:\n",
    "\n",
    "Go over the job location column for all jobs, the two letters of each value is a code for the country.\n",
    "\n",
    "Your task is to print all country names that have jobs in them, with no duplications (every country appears only once) and sorted alphabetically. print out the country names, not codes.\n",
    "\n",
    "Important: \n",
    "- To start with an empty set you have to write something like this: countries = set()\n",
    "- Note that there is one problematic job entry that has an empty location string, so you might want to test for it or use the get function to access the country-code dictionary.\n",
    "- Tackle this problem step by step. "
   ]
  },
  {
   "cell_type": "code",
   "execution_count": null,
   "metadata": {},
   "outputs": [],
   "source": []
  },
  {
   "cell_type": "markdown",
   "metadata": {},
   "source": [
    "#### Task 6:\n",
    "\n",
    "Try to figure out something else from this data set. Think of a question and then figure out how to get the answer and go for it. Please share your results with the group"
   ]
  },
  {
   "cell_type": "code",
   "execution_count": null,
   "metadata": {},
   "outputs": [],
   "source": []
  },
  {
   "cell_type": "markdown",
   "metadata": {},
   "source": [
    "## Help Section\n",
    "\n",
    "#### Help for task 1:\n",
    "\n",
    "from csv import reader<br>\n",
    "fp = open('amazon_jobs_dataset.csv', encoding='utf-8')<br>\n",
    "data = list(reader(fp))<br>\n",
    "fp.close()<br>\n",
    "\n",
    "#### Help for task 2:\n",
    "\n",
    "after you open the file use : country_codes = dict(reader(fp))\n",
    "\n",
    "\n",
    "#### Task 3 - my results (compare)\n",
    "\n",
    "Python: 898<br>\n",
    "C++: 2106<br>\n",
    "C#: 949<br>\n",
    "\n",
    "If your count is lower, you might have checked in a case-sensitive way.... 'Python' can also appear as 'python'\n",
    "\n",
    "\n",
    "#### Task 4 - my results (compare)\n",
    "\n",
    "Software Development Engineer : 705<br>\n",
    "Software Development Manager : 122<br>\n",
    "Senior Software Development Engineer : 115<br>\n",
    "Sr. Software Development Engineer : 58<br>\n",
    "Software Development Engineer  : 56<br>\n",
    "Software Development Engineer Ii : 50<br>\n",
    "Web Development Engineer : 20<br>\n",
    "Software Development Engineer, Amazon Alexa : 18<br>\n",
    "Senior Software Engineer : 18<br>\n",
    "Software Development Engineer Ii - Alexa Deep Product Knowledge  : 17<br>\n",
    "Software Development Engineer – In-Memory Distributed Systems : 13<br>\n",
    "Software Engineer : 12<br>\n",
    "Sr Software Development Engineer : 12<br>\n",
    "Software Development Engineer (Fullstack) : 12<br>\n",
    "Software Development Engineer, Speech And Language Technologies : 12<br>\n",
    "Senior Software Development Engineer  : 11<br>\n",
    "Software Development Engineer – Alexa Machine Learning Platform : 10<br>\n",
    "Manager, Software Development : 10\n",
    "\n",
    "\n",
    "#### Help for Task 5:\n",
    "\n",
    "General process:\n",
    "- create an empty set\n",
    "- go over all jobs using a for loop\n",
    "- for each job get the location string\n",
    "- get the country code from the location string using split (see more on this below)\n",
    "- get the country name by looking up the country code in the country code dictionary you have prepared in task 2 (using the get fucntion... there is one problematic job that has no location specified.. anoying but realistic)\n",
    "- add the country name to the set. There is no need to test and see if it is already there, this is a set, there are no duplicates.\n",
    "- after the for loop ends simple print the sorted set\n",
    "\n",
    "Using the split funtion to get the country code from the location string:\n",
    "\n",
    "every string object has internal function we can access using '.' , one such function is the 'split' function. the 'split' function splits the original string into a list of substrings. by default it splits the string where there are spaces, for example:\n",
    "\n",
    "if we have a string: string1 = 'Hi everybody'\n",
    "The code: string1.split() will produce a list that looks like this ['Hi', 'everybody']\n",
    "\n",
    "but we can pass an argument to split, that tells it what charater to split on, so we can write split(',') to split on commas instead of spaces.\n",
    "\n",
    "we can then access each sucstring using their index. to get the first substring use string1.split()[0] etc\n",
    "\n",
    "compare your results to mine:<br>\n",
    "['-',<br>\n",
    " 'Australia',<br>\n",
    " 'Brazil',<br>\n",
    " 'Canada',<br>\n",
    " 'China',<br>\n",
    " 'France',<br>\n",
    " 'Germany',<br>\n",
    " 'India',<br>\n",
    " 'Ireland',<br>\n",
    " 'Israel',<br>\n",
    " 'Italy',<br>\n",
    " 'Japan',<br>\n",
    " 'Jordan',<br>\n",
    " 'Luxembourg',<br>\n",
    " 'Mexico',<br>\n",
    " 'Netherlands',<br>\n",
    " 'Poland',<br>\n",
    " 'Romania',<br>\n",
    " 'Singapore',<br>\n",
    " 'South Africa',<br>\n",
    " 'Spain',<br>\n",
    " 'Taiwan, Province of China',<br>\n",
    " 'United Arab Emirates',<br>\n",
    " 'United States']<br>\n",
    "\n"
   ]
  },
  {
   "cell_type": "code",
   "execution_count": null,
   "metadata": {},
   "outputs": [],
   "source": []
  }
 ],
 "metadata": {
  "kernelspec": {
   "display_name": "Python 3 (ipykernel)",
   "language": "python",
   "name": "python3"
  },
  "language_info": {
   "codemirror_mode": {
    "name": "ipython",
    "version": 3
   },
   "file_extension": ".py",
   "mimetype": "text/x-python",
   "name": "python",
   "nbconvert_exporter": "python",
   "pygments_lexer": "ipython3",
   "version": "3.9.7"
  }
 },
 "nbformat": 4,
 "nbformat_minor": 4
}
