{
 "cells": [
  {
   "cell_type": "markdown",
   "id": "724a3a33-f142-4d87-a4e8-b60caa61d66b",
   "metadata": {},
   "source": [
    "# numpy"
   ]
  },
  {
   "cell_type": "code",
   "execution_count": 1,
   "id": "d5eb23b8-d184-4a46-b33e-fec05cf9314e",
   "metadata": {},
   "outputs": [],
   "source": [
    "list_arr = [6, 3, 7, 23, 54, 30]"
   ]
  },
  {
   "cell_type": "code",
   "execution_count": 157,
   "id": "10eb3204-9cf0-4cb4-bbd5-c4123b745fa7",
   "metadata": {},
   "outputs": [],
   "source": [
    "import numpy as np"
   ]
  },
  {
   "cell_type": "code",
   "execution_count": 13,
   "id": "7aab1f5c-ba16-477d-98c2-fb49b1809a52",
   "metadata": {},
   "outputs": [],
   "source": [
    "np_arr = np.array([6, 3, 7.9, 23, 54, 30], dtype='int')"
   ]
  },
  {
   "cell_type": "code",
   "execution_count": 14,
   "id": "66fdfd27-613d-4204-9260-bfa4d8bce989",
   "metadata": {},
   "outputs": [
    {
     "data": {
      "text/plain": [
       "array([ 6,  3,  7, 23, 54, 30])"
      ]
     },
     "execution_count": 14,
     "metadata": {},
     "output_type": "execute_result"
    }
   ],
   "source": [
    "np_arr"
   ]
  },
  {
   "cell_type": "code",
   "execution_count": 15,
   "id": "520c715f-9f0e-459a-b83c-f9514e133592",
   "metadata": {},
   "outputs": [],
   "source": [
    "np_arr = np.array([6, 3, 7.9, 23, 54, 30])"
   ]
  },
  {
   "cell_type": "code",
   "execution_count": 17,
   "id": "20608602-562d-4b85-a28c-f2ac167d4b2b",
   "metadata": {},
   "outputs": [
    {
     "data": {
      "text/plain": [
       "dtype('float64')"
      ]
     },
     "execution_count": 17,
     "metadata": {},
     "output_type": "execute_result"
    }
   ],
   "source": [
    "np_arr.dtype"
   ]
  },
  {
   "cell_type": "code",
   "execution_count": 18,
   "id": "3a94b616-f652-4216-a861-ba50e0a8e1f6",
   "metadata": {},
   "outputs": [
    {
     "data": {
      "text/plain": [
       "array([ 6. ,  3. ,  7.9, 23. , 54. , 30. ])"
      ]
     },
     "execution_count": 18,
     "metadata": {},
     "output_type": "execute_result"
    }
   ],
   "source": [
    "np_arr"
   ]
  },
  {
   "cell_type": "code",
   "execution_count": 19,
   "id": "36636f2f-f2a7-4457-addb-6240dcfb981b",
   "metadata": {},
   "outputs": [],
   "source": [
    "con_np_arr = np_arr.astype('int')"
   ]
  },
  {
   "cell_type": "code",
   "execution_count": 20,
   "id": "3cfbcb2c-d8cc-4ff0-b30a-bcb1825386b2",
   "metadata": {},
   "outputs": [
    {
     "data": {
      "text/plain": [
       "array([ 6,  3,  7, 23, 54, 30])"
      ]
     },
     "execution_count": 20,
     "metadata": {},
     "output_type": "execute_result"
    }
   ],
   "source": [
    "con_np_arr"
   ]
  },
  {
   "cell_type": "code",
   "execution_count": 22,
   "id": "53bca76b-9ee1-4cb0-ba4d-47f0017468a3",
   "metadata": {},
   "outputs": [],
   "source": [
    "list_2d = [[45, 13, 13,  6, 11, 44, 33, 47],\n",
    "            [31, 20,  7,  7, 33, 33, 37, 18],\n",
    "            [16, 32, 47, 26, 14, 46, 47, 37],\n",
    "            [ 5,  9, 22, 10, 14, 11,  4, 49],\n",
    "            [24,  1, 24,  5, 45, 48, 12, 46]]"
   ]
  },
  {
   "cell_type": "code",
   "execution_count": 23,
   "id": "d7420a09-6368-44cd-ab74-88efdd9ca1d5",
   "metadata": {},
   "outputs": [
    {
     "data": {
      "text/plain": [
       "[[45, 13, 13, 6, 11, 44, 33, 47],\n",
       " [31, 20, 7, 7, 33, 33, 37, 18],\n",
       " [16, 32, 47, 26, 14, 46, 47, 37],\n",
       " [5, 9, 22, 10, 14, 11, 4, 49],\n",
       " [24, 1, 24, 5, 45, 48, 12, 46]]"
      ]
     },
     "execution_count": 23,
     "metadata": {},
     "output_type": "execute_result"
    }
   ],
   "source": [
    "list_2d"
   ]
  },
  {
   "cell_type": "code",
   "execution_count": 24,
   "id": "a063b6c1-27c0-4b5f-823d-6f878e2610b8",
   "metadata": {},
   "outputs": [],
   "source": [
    "np_2d = np.array(list_2d)"
   ]
  },
  {
   "cell_type": "code",
   "execution_count": 25,
   "id": "0ab9b2e4-12f4-4760-b7fa-a171bbee2e29",
   "metadata": {},
   "outputs": [
    {
     "data": {
      "text/plain": [
       "array([[45, 13, 13,  6, 11, 44, 33, 47],\n",
       "       [31, 20,  7,  7, 33, 33, 37, 18],\n",
       "       [16, 32, 47, 26, 14, 46, 47, 37],\n",
       "       [ 5,  9, 22, 10, 14, 11,  4, 49],\n",
       "       [24,  1, 24,  5, 45, 48, 12, 46]])"
      ]
     },
     "execution_count": 25,
     "metadata": {},
     "output_type": "execute_result"
    }
   ],
   "source": [
    "np_2d"
   ]
  },
  {
   "cell_type": "code",
   "execution_count": 26,
   "id": "cf5d081e-0248-4b11-a754-6d3b783d4079",
   "metadata": {},
   "outputs": [
    {
     "data": {
      "text/plain": [
       "array([0, 1, 2, 3, 4, 5])"
      ]
     },
     "execution_count": 26,
     "metadata": {},
     "output_type": "execute_result"
    }
   ],
   "source": [
    "np.arange(6)"
   ]
  },
  {
   "cell_type": "code",
   "execution_count": 27,
   "id": "0258145d-d3cf-4c3e-a734-4a4e5a6a2534",
   "metadata": {},
   "outputs": [
    {
     "data": {
      "text/plain": [
       "array([2, 3, 4, 5])"
      ]
     },
     "execution_count": 27,
     "metadata": {},
     "output_type": "execute_result"
    }
   ],
   "source": [
    "np.arange(2,6)"
   ]
  },
  {
   "cell_type": "code",
   "execution_count": 29,
   "id": "275c365a-c694-42f9-a0bf-bea54a9ff64d",
   "metadata": {},
   "outputs": [
    {
     "data": {
      "text/plain": [
       "array([ 50,  52,  54,  56,  58,  60,  62,  64,  66,  68,  70,  72,  74,\n",
       "        76,  78,  80,  82,  84,  86,  88,  90,  92,  94,  96,  98, 100])"
      ]
     },
     "execution_count": 29,
     "metadata": {},
     "output_type": "execute_result"
    }
   ],
   "source": [
    "np.arange(50,101,2)"
   ]
  },
  {
   "cell_type": "code",
   "execution_count": 32,
   "id": "dafa9ee1-7cd6-45e8-b9aa-89567578cca8",
   "metadata": {},
   "outputs": [],
   "source": [
    "x_arr = np.linspace(-10, 10, 101)"
   ]
  },
  {
   "cell_type": "code",
   "execution_count": 33,
   "id": "53f40ad4-acee-431f-89a3-19f5ffe29fd1",
   "metadata": {},
   "outputs": [
    {
     "data": {
      "text/plain": [
       "array([-10. ,  -9.8,  -9.6,  -9.4,  -9.2,  -9. ,  -8.8,  -8.6,  -8.4,\n",
       "        -8.2,  -8. ,  -7.8,  -7.6,  -7.4,  -7.2,  -7. ,  -6.8,  -6.6,\n",
       "        -6.4,  -6.2,  -6. ,  -5.8,  -5.6,  -5.4,  -5.2,  -5. ,  -4.8,\n",
       "        -4.6,  -4.4,  -4.2,  -4. ,  -3.8,  -3.6,  -3.4,  -3.2,  -3. ,\n",
       "        -2.8,  -2.6,  -2.4,  -2.2,  -2. ,  -1.8,  -1.6,  -1.4,  -1.2,\n",
       "        -1. ,  -0.8,  -0.6,  -0.4,  -0.2,   0. ,   0.2,   0.4,   0.6,\n",
       "         0.8,   1. ,   1.2,   1.4,   1.6,   1.8,   2. ,   2.2,   2.4,\n",
       "         2.6,   2.8,   3. ,   3.2,   3.4,   3.6,   3.8,   4. ,   4.2,\n",
       "         4.4,   4.6,   4.8,   5. ,   5.2,   5.4,   5.6,   5.8,   6. ,\n",
       "         6.2,   6.4,   6.6,   6.8,   7. ,   7.2,   7.4,   7.6,   7.8,\n",
       "         8. ,   8.2,   8.4,   8.6,   8.8,   9. ,   9.2,   9.4,   9.6,\n",
       "         9.8,  10. ])"
      ]
     },
     "execution_count": 33,
     "metadata": {},
     "output_type": "execute_result"
    }
   ],
   "source": [
    "x_arr"
   ]
  },
  {
   "cell_type": "code",
   "execution_count": 35,
   "id": "2aeab8f4-120e-4724-9df5-e2253b0f89a3",
   "metadata": {},
   "outputs": [
    {
     "data": {
      "text/plain": [
       "array([[0., 0., 0.],\n",
       "       [0., 0., 0.],\n",
       "       [0., 0., 0.],\n",
       "       [0., 0., 0.],\n",
       "       [0., 0., 0.],\n",
       "       [0., 0., 0.],\n",
       "       [0., 0., 0.],\n",
       "       [0., 0., 0.],\n",
       "       [0., 0., 0.],\n",
       "       [0., 0., 0.]])"
      ]
     },
     "execution_count": 35,
     "metadata": {},
     "output_type": "execute_result"
    }
   ],
   "source": [
    "np.zeros( (10,3) ) "
   ]
  },
  {
   "cell_type": "code",
   "execution_count": 36,
   "id": "57fce04e-b4b1-4c45-a2a0-9d8f24391f38",
   "metadata": {},
   "outputs": [
    {
     "data": {
      "text/plain": [
       "array([[1., 1., 1.],\n",
       "       [1., 1., 1.],\n",
       "       [1., 1., 1.],\n",
       "       [1., 1., 1.],\n",
       "       [1., 1., 1.],\n",
       "       [1., 1., 1.],\n",
       "       [1., 1., 1.],\n",
       "       [1., 1., 1.],\n",
       "       [1., 1., 1.],\n",
       "       [1., 1., 1.]])"
      ]
     },
     "execution_count": 36,
     "metadata": {},
     "output_type": "execute_result"
    }
   ],
   "source": [
    "np.ones( (10,3) ) "
   ]
  },
  {
   "cell_type": "code",
   "execution_count": 39,
   "id": "25a40abf-358b-48a5-8395-68f60081e885",
   "metadata": {},
   "outputs": [
    {
     "data": {
      "text/plain": [
       "array([[-1., -1., -1., -1.],\n",
       "       [-1., -1., -1., -1.],\n",
       "       [-1., -1., -1., -1.],\n",
       "       [-1., -1., -1., -1.],\n",
       "       [-1., -1., -1., -1.]])"
      ]
     },
     "execution_count": 39,
     "metadata": {},
     "output_type": "execute_result"
    }
   ],
   "source": [
    "np.full( (5,4), -1 , dtype='float')"
   ]
  },
  {
   "cell_type": "code",
   "execution_count": 40,
   "id": "a3627fb6-994e-4c90-9c28-71fbf159adc6",
   "metadata": {},
   "outputs": [
    {
     "data": {
      "text/plain": [
       "array([[3, 4, 4, 6, 4, 5, 6, 5, 3, 1],\n",
       "       [6, 2, 4, 1, 6, 6, 5, 6, 2, 6],\n",
       "       [4, 5, 4, 2, 2, 6, 1, 1, 2, 4]])"
      ]
     },
     "execution_count": 40,
     "metadata": {},
     "output_type": "execute_result"
    }
   ],
   "source": [
    "np.random.randint(1, 7, (3, 10))"
   ]
  },
  {
   "cell_type": "code",
   "execution_count": 41,
   "id": "9adb8218-3b27-4100-9a99-e01148923f0c",
   "metadata": {},
   "outputs": [
    {
     "data": {
      "text/plain": [
       "array([[0.10439658, 0.43110075, 0.09852513, 0.29304859, 0.39763255],\n",
       "       [0.5549978 , 0.190333  , 0.03372438, 0.85709861, 0.63858955],\n",
       "       [0.48488797, 0.76753671, 0.0267116 , 0.70032543, 0.57948477],\n",
       "       [0.22915886, 0.5414583 , 0.40147503, 0.33867271, 0.46689898],\n",
       "       [0.38377775, 0.8177953 , 0.51678135, 0.13827882, 0.15388006]])"
      ]
     },
     "execution_count": 41,
     "metadata": {},
     "output_type": "execute_result"
    }
   ],
   "source": [
    "np.random.random((5,5))"
   ]
  },
  {
   "cell_type": "code",
   "execution_count": 42,
   "id": "829f9ed2-c1d7-4d2c-979f-b1bf856cc9cd",
   "metadata": {},
   "outputs": [],
   "source": [
    "np_heights = np.genfromtxt('heights.csv', delimiter=',')"
   ]
  },
  {
   "cell_type": "code",
   "execution_count": 44,
   "id": "f3eee992-af9e-4037-a791-bb25f50413d6",
   "metadata": {},
   "outputs": [
    {
     "data": {
      "text/plain": [
       "array([2.05, 1.78, 1.9 , 2.15, 2.07, 1.5 , 1.89, 1.67, 1.68, 1.78])"
      ]
     },
     "execution_count": 44,
     "metadata": {},
     "output_type": "execute_result"
    }
   ],
   "source": [
    "np_heights[:10]"
   ]
  },
  {
   "cell_type": "markdown",
   "id": "9de17157-caf4-47aa-8980-c28e2d567e87",
   "metadata": {},
   "source": [
    "## numpy attributes"
   ]
  },
  {
   "cell_type": "code",
   "execution_count": 49,
   "id": "44bcd535-be28-4ec1-b063-ed58eca58c61",
   "metadata": {},
   "outputs": [
    {
     "data": {
      "text/plain": [
       "array([[45, 13, 13,  6, 11, 44, 33, 47],\n",
       "       [31, 20,  7,  7, 33, 33, 37, 18],\n",
       "       [16, 32, 47, 26, 14, 46, 47, 37],\n",
       "       [ 5,  9, 22, 10, 14, 11,  4, 49],\n",
       "       [24,  1, 24,  5, 45, 48, 12, 46]])"
      ]
     },
     "execution_count": 49,
     "metadata": {},
     "output_type": "execute_result"
    }
   ],
   "source": [
    "np_2d"
   ]
  },
  {
   "cell_type": "code",
   "execution_count": 50,
   "id": "6a0d4e03-f701-42be-9400-7291116e7451",
   "metadata": {},
   "outputs": [
    {
     "data": {
      "text/plain": [
       "4"
      ]
     },
     "execution_count": 50,
     "metadata": {},
     "output_type": "execute_result"
    }
   ],
   "source": [
    "np_2d.itemsize"
   ]
  },
  {
   "cell_type": "code",
   "execution_count": 51,
   "id": "69c54872-1893-44f4-bdcf-f69e4d9da35e",
   "metadata": {},
   "outputs": [
    {
     "data": {
      "text/plain": [
       "2"
      ]
     },
     "execution_count": 51,
     "metadata": {},
     "output_type": "execute_result"
    }
   ],
   "source": [
    "np_2d.ndim"
   ]
  },
  {
   "cell_type": "code",
   "execution_count": 53,
   "id": "9a7f0720-ad52-44df-afbd-15169ddc22e4",
   "metadata": {},
   "outputs": [
    {
     "data": {
      "text/plain": [
       "(5, 8)"
      ]
     },
     "execution_count": 53,
     "metadata": {},
     "output_type": "execute_result"
    }
   ],
   "source": [
    "np_2d.shape"
   ]
  },
  {
   "cell_type": "code",
   "execution_count": 54,
   "id": "5bdcdcb5-5255-4371-9625-763103e980dc",
   "metadata": {},
   "outputs": [
    {
     "data": {
      "text/plain": [
       "40"
      ]
     },
     "execution_count": 54,
     "metadata": {},
     "output_type": "execute_result"
    }
   ],
   "source": [
    "np_2d.size"
   ]
  },
  {
   "cell_type": "code",
   "execution_count": 55,
   "id": "30e858cd-2110-42cf-82be-a59c1fa7c821",
   "metadata": {},
   "outputs": [
    {
     "data": {
      "text/plain": [
       "5"
      ]
     },
     "execution_count": 55,
     "metadata": {},
     "output_type": "execute_result"
    }
   ],
   "source": [
    "len(np_2d)"
   ]
  },
  {
   "cell_type": "code",
   "execution_count": 56,
   "id": "84ea6f0a-04e8-4305-879f-418099a59863",
   "metadata": {},
   "outputs": [
    {
     "data": {
      "text/plain": [
       "array([45, 13, 13,  6, 11, 44, 33, 47, 31, 20,  7,  7, 33, 33, 37, 18, 16,\n",
       "       32, 47, 26, 14, 46, 47, 37,  5,  9, 22, 10, 14, 11,  4, 49, 24,  1,\n",
       "       24,  5, 45, 48, 12, 46])"
      ]
     },
     "execution_count": 56,
     "metadata": {},
     "output_type": "execute_result"
    }
   ],
   "source": [
    "np_2d.reshape( 40 ) "
   ]
  },
  {
   "cell_type": "code",
   "execution_count": 57,
   "id": "aa80bf30-cb77-458d-ac9c-59fb05f3df56",
   "metadata": {},
   "outputs": [
    {
     "data": {
      "text/plain": [
       "array([[45, 13, 13,  6, 11, 44, 33, 47, 31, 20,  7,  7, 33, 33, 37, 18,\n",
       "        16, 32, 47, 26],\n",
       "       [14, 46, 47, 37,  5,  9, 22, 10, 14, 11,  4, 49, 24,  1, 24,  5,\n",
       "        45, 48, 12, 46]])"
      ]
     },
     "execution_count": 57,
     "metadata": {},
     "output_type": "execute_result"
    }
   ],
   "source": [
    "np_2d.reshape( (2,20) )"
   ]
  },
  {
   "cell_type": "code",
   "execution_count": 58,
   "id": "d1305de1-71e1-4e57-9b7d-c67f6b20db1c",
   "metadata": {},
   "outputs": [
    {
     "data": {
      "text/plain": [
       "array([[45, 13, 13,  6],\n",
       "       [11, 44, 33, 47],\n",
       "       [31, 20,  7,  7],\n",
       "       [33, 33, 37, 18],\n",
       "       [16, 32, 47, 26],\n",
       "       [14, 46, 47, 37],\n",
       "       [ 5,  9, 22, 10],\n",
       "       [14, 11,  4, 49],\n",
       "       [24,  1, 24,  5],\n",
       "       [45, 48, 12, 46]])"
      ]
     },
     "execution_count": 58,
     "metadata": {},
     "output_type": "execute_result"
    }
   ],
   "source": [
    "np_2d.reshape( (10,-1) )"
   ]
  },
  {
   "cell_type": "code",
   "execution_count": 60,
   "id": "06da8251-8c28-4aeb-9213-e20e172fcd09",
   "metadata": {},
   "outputs": [
    {
     "data": {
      "text/plain": [
       "array([45, 13, 13,  6, 11, 44, 33, 47, 31, 20,  7,  7, 33, 33, 37, 18, 16,\n",
       "       32, 47, 26, 14, 46, 47, 37,  5,  9, 22, 10, 14, 11,  4, 49, 24,  1,\n",
       "       24,  5, 45, 48, 12, 46])"
      ]
     },
     "execution_count": 60,
     "metadata": {},
     "output_type": "execute_result"
    }
   ],
   "source": [
    "np_2d.reshape( np_2d.size )"
   ]
  },
  {
   "cell_type": "code",
   "execution_count": 61,
   "id": "d3f8fa1c-ad0d-4151-935d-c8f15c5e2277",
   "metadata": {},
   "outputs": [],
   "source": [
    "test_arr = np.arange(39)"
   ]
  },
  {
   "cell_type": "code",
   "execution_count": 62,
   "id": "39da1181-e84e-4d10-b7aa-1a61dfa5573c",
   "metadata": {},
   "outputs": [
    {
     "data": {
      "text/plain": [
       "array([ 0,  1,  2,  3,  4,  5,  6,  7,  8,  9, 10, 11, 12, 13, 14, 15, 16,\n",
       "       17, 18, 19, 20, 21, 22, 23, 24, 25, 26, 27, 28, 29, 30, 31, 32, 33,\n",
       "       34, 35, 36, 37, 38])"
      ]
     },
     "execution_count": 62,
     "metadata": {},
     "output_type": "execute_result"
    }
   ],
   "source": [
    "test_arr"
   ]
  },
  {
   "cell_type": "code",
   "execution_count": 63,
   "id": "be5da565-79a8-484f-b9c9-dcf3c5a458ce",
   "metadata": {},
   "outputs": [
    {
     "ename": "ValueError",
     "evalue": "cannot reshape array of size 39 into shape (2,20)",
     "output_type": "error",
     "traceback": [
      "\u001b[1;31m---------------------------------------------------------------------------\u001b[0m",
      "\u001b[1;31mValueError\u001b[0m                                Traceback (most recent call last)",
      "\u001b[1;32m~\\AppData\\Local\\Temp/ipykernel_6040/3489033546.py\u001b[0m in \u001b[0;36m<module>\u001b[1;34m\u001b[0m\n\u001b[1;32m----> 1\u001b[1;33m \u001b[0mtest_arr\u001b[0m\u001b[1;33m.\u001b[0m\u001b[0mreshape\u001b[0m\u001b[1;33m(\u001b[0m \u001b[1;33m(\u001b[0m\u001b[1;36m2\u001b[0m\u001b[1;33m,\u001b[0m\u001b[1;36m20\u001b[0m\u001b[1;33m)\u001b[0m \u001b[1;33m)\u001b[0m\u001b[1;33m\u001b[0m\u001b[1;33m\u001b[0m\u001b[0m\n\u001b[0m",
      "\u001b[1;31mValueError\u001b[0m: cannot reshape array of size 39 into shape (2,20)"
     ]
    }
   ],
   "source": [
    "test_arr.reshape( (2,20) )"
   ]
  },
  {
   "cell_type": "code",
   "execution_count": null,
   "id": "a75a69ac-00db-46a6-81b0-02a02319d249",
   "metadata": {},
   "outputs": [],
   "source": []
  },
  {
   "cell_type": "markdown",
   "id": "20f26e1b-3592-4874-a16e-ebbc8320365e",
   "metadata": {
    "tags": []
   },
   "source": [
    "## numpy indexing"
   ]
  },
  {
   "cell_type": "code",
   "execution_count": 64,
   "id": "82390574-4dbe-4428-9652-75020342cef0",
   "metadata": {},
   "outputs": [
    {
     "data": {
      "text/plain": [
       "array([[45, 13, 13,  6, 11, 44, 33, 47],\n",
       "       [31, 20,  7,  7, 33, 33, 37, 18],\n",
       "       [16, 32, 47, 26, 14, 46, 47, 37],\n",
       "       [ 5,  9, 22, 10, 14, 11,  4, 49],\n",
       "       [24,  1, 24,  5, 45, 48, 12, 46]])"
      ]
     },
     "execution_count": 64,
     "metadata": {},
     "output_type": "execute_result"
    }
   ],
   "source": [
    "np_2d"
   ]
  },
  {
   "cell_type": "code",
   "execution_count": 65,
   "id": "81e3ac43-9637-49a9-b426-cf8e80d2e4e1",
   "metadata": {},
   "outputs": [
    {
     "data": {
      "text/plain": [
       "array([31, 20,  7,  7, 33, 33, 37, 18])"
      ]
     },
     "execution_count": 65,
     "metadata": {},
     "output_type": "execute_result"
    }
   ],
   "source": [
    "np_2d[1]"
   ]
  },
  {
   "cell_type": "code",
   "execution_count": 66,
   "id": "53f5e5bc-1ab8-492b-8f54-0d15718868b5",
   "metadata": {},
   "outputs": [
    {
     "data": {
      "text/plain": [
       "array([24,  1, 24,  5, 45, 48, 12, 46])"
      ]
     },
     "execution_count": 66,
     "metadata": {},
     "output_type": "execute_result"
    }
   ],
   "source": [
    "np_2d[-1]"
   ]
  },
  {
   "cell_type": "code",
   "execution_count": 67,
   "id": "e73c1700-f7bf-4cf7-a6cd-788e5f1dd0ad",
   "metadata": {},
   "outputs": [
    {
     "data": {
      "text/plain": [
       "array([[31, 20,  7,  7, 33, 33, 37, 18],\n",
       "       [16, 32, 47, 26, 14, 46, 47, 37],\n",
       "       [ 5,  9, 22, 10, 14, 11,  4, 49],\n",
       "       [24,  1, 24,  5, 45, 48, 12, 46]])"
      ]
     },
     "execution_count": 67,
     "metadata": {},
     "output_type": "execute_result"
    }
   ],
   "source": [
    "np_2d[1:]"
   ]
  },
  {
   "cell_type": "code",
   "execution_count": 68,
   "id": "c9d5ed2f-f7b7-421a-a871-7618b7a6926d",
   "metadata": {},
   "outputs": [
    {
     "data": {
      "text/plain": [
       "26"
      ]
     },
     "execution_count": 68,
     "metadata": {},
     "output_type": "execute_result"
    }
   ],
   "source": [
    "np_2d[2, 3]"
   ]
  },
  {
   "cell_type": "code",
   "execution_count": 69,
   "id": "48fbac3c-5bae-4b61-88fa-a93a50b55792",
   "metadata": {},
   "outputs": [],
   "source": [
    "np_2d[2, 3] = 0"
   ]
  },
  {
   "cell_type": "code",
   "execution_count": 70,
   "id": "aa7d4862-6aae-448c-bd74-636996d9df79",
   "metadata": {},
   "outputs": [
    {
     "data": {
      "text/plain": [
       "array([[ 7, 33, 33],\n",
       "       [ 0, 14, 46]])"
      ]
     },
     "execution_count": 70,
     "metadata": {},
     "output_type": "execute_result"
    }
   ],
   "source": [
    "np_2d[1:3, 3:6]"
   ]
  },
  {
   "cell_type": "code",
   "execution_count": 71,
   "id": "f6dac344-67b4-489c-98df-fb2c30dc1c3b",
   "metadata": {},
   "outputs": [],
   "source": [
    "column5 = np_2d[ : , 5]"
   ]
  },
  {
   "cell_type": "code",
   "execution_count": 72,
   "id": "6ac5d45f-4dea-4f86-a298-7a8f9b0110a3",
   "metadata": {},
   "outputs": [
    {
     "data": {
      "text/plain": [
       "array([44, 33, 46, 11, 48])"
      ]
     },
     "execution_count": 72,
     "metadata": {},
     "output_type": "execute_result"
    }
   ],
   "source": [
    "column5"
   ]
  },
  {
   "cell_type": "code",
   "execution_count": 73,
   "id": "e87d9a42-29cc-47b5-a841-9fbfb52f60d3",
   "metadata": {},
   "outputs": [
    {
     "data": {
      "text/plain": [
       "array([[45, 13, 13,  6, 11, 44, 33, 47],\n",
       "       [31, 20,  7,  7, 33, 33, 37, 18],\n",
       "       [16, 32, 47,  0, 14, 46, 47, 37],\n",
       "       [ 5,  9, 22, 10, 14, 11,  4, 49],\n",
       "       [24,  1, 24,  5, 45, 48, 12, 46]])"
      ]
     },
     "execution_count": 73,
     "metadata": {},
     "output_type": "execute_result"
    }
   ],
   "source": [
    "np_2d"
   ]
  },
  {
   "cell_type": "markdown",
   "id": "e88efd18-adb8-406d-a095-04d33b3d73d2",
   "metadata": {},
   "source": [
    "## numpy methods and math"
   ]
  },
  {
   "cell_type": "code",
   "execution_count": 74,
   "id": "06fbd613-95a8-47bc-9b87-2d6466cad67f",
   "metadata": {},
   "outputs": [
    {
     "data": {
      "text/plain": [
       "0"
      ]
     },
     "execution_count": 74,
     "metadata": {},
     "output_type": "execute_result"
    }
   ],
   "source": [
    "np.min(np_2d)"
   ]
  },
  {
   "cell_type": "code",
   "execution_count": 75,
   "id": "adb9b60e-0ebd-42c3-9922-5fecce7e61bd",
   "metadata": {},
   "outputs": [
    {
     "data": {
      "text/plain": [
       "49"
      ]
     },
     "execution_count": 75,
     "metadata": {},
     "output_type": "execute_result"
    }
   ],
   "source": [
    "np.max(np_2d)"
   ]
  },
  {
   "cell_type": "code",
   "execution_count": 76,
   "id": "3cad9e48-d0ab-4bd5-989d-ddb714345426",
   "metadata": {},
   "outputs": [
    {
     "data": {
      "text/plain": [
       "966"
      ]
     },
     "execution_count": 76,
     "metadata": {},
     "output_type": "execute_result"
    }
   ],
   "source": [
    "np.sum(np_2d)"
   ]
  },
  {
   "cell_type": "code",
   "execution_count": 77,
   "id": "0c569a7e-b249-46fe-b0c2-b40b59c205b1",
   "metadata": {},
   "outputs": [
    {
     "data": {
      "text/plain": [
       "24.15"
      ]
     },
     "execution_count": 77,
     "metadata": {},
     "output_type": "execute_result"
    }
   ],
   "source": [
    "np.mean(np_2d)"
   ]
  },
  {
   "cell_type": "code",
   "execution_count": 78,
   "id": "46327ed7-0a25-4924-b1e2-59380a52f4b3",
   "metadata": {},
   "outputs": [
    {
     "data": {
      "text/plain": [
       "16.066346815626755"
      ]
     },
     "execution_count": 78,
     "metadata": {},
     "output_type": "execute_result"
    }
   ],
   "source": [
    "np.std(np_2d)"
   ]
  },
  {
   "cell_type": "code",
   "execution_count": 79,
   "id": "6051ebf3-087c-4028-bda7-b58359746b9e",
   "metadata": {},
   "outputs": [],
   "source": [
    "x = np.array([1,2,3,4,5])\n",
    "y = np.array([2,3,1,4,6])"
   ]
  },
  {
   "cell_type": "code",
   "execution_count": 80,
   "id": "9ac5e4a3-93e7-4611-a65a-42696b2f642b",
   "metadata": {},
   "outputs": [
    {
     "data": {
      "text/plain": [
       "array([1, 2, 3, 4, 5])"
      ]
     },
     "execution_count": 80,
     "metadata": {},
     "output_type": "execute_result"
    }
   ],
   "source": [
    "x"
   ]
  },
  {
   "cell_type": "code",
   "execution_count": 84,
   "id": "2c40be91-9b53-4477-a846-66bcb3b25772",
   "metadata": {},
   "outputs": [
    {
     "name": "stdout",
     "output_type": "stream",
     "text": [
      "[2 3 4 5 6]\n"
     ]
    }
   ],
   "source": [
    "z = x + 1\n",
    "print(z)"
   ]
  },
  {
   "cell_type": "code",
   "execution_count": 85,
   "id": "f6700680-3bc7-4f17-b91f-684eb2466e86",
   "metadata": {},
   "outputs": [
    {
     "data": {
      "text/plain": [
       "array([ 2,  4,  6,  8, 10])"
      ]
     },
     "execution_count": 85,
     "metadata": {},
     "output_type": "execute_result"
    }
   ],
   "source": [
    "x * 2"
   ]
  },
  {
   "cell_type": "code",
   "execution_count": 86,
   "id": "23fca798-1c55-44b5-b852-9c8145d76031",
   "metadata": {},
   "outputs": [
    {
     "data": {
      "text/plain": [
       "array([ 1,  4,  9, 16, 25], dtype=int32)"
      ]
     },
     "execution_count": 86,
     "metadata": {},
     "output_type": "execute_result"
    }
   ],
   "source": [
    "x ** 2"
   ]
  },
  {
   "cell_type": "code",
   "execution_count": 87,
   "id": "4cf42026-afec-4568-97cb-77a0c8182b60",
   "metadata": {},
   "outputs": [
    {
     "data": {
      "text/plain": [
       "array([ 2,  4,  8, 16, 32], dtype=int32)"
      ]
     },
     "execution_count": 87,
     "metadata": {},
     "output_type": "execute_result"
    }
   ],
   "source": [
    "2 ** x"
   ]
  },
  {
   "cell_type": "code",
   "execution_count": 88,
   "id": "2da8b6e7-87eb-4eb6-8c9f-41780acd2776",
   "metadata": {},
   "outputs": [
    {
     "data": {
      "text/plain": [
       "array([ 3,  5,  4,  8, 11])"
      ]
     },
     "execution_count": 88,
     "metadata": {},
     "output_type": "execute_result"
    }
   ],
   "source": [
    "x + y"
   ]
  },
  {
   "cell_type": "code",
   "execution_count": 90,
   "id": "2c06f3f3-6a89-4adc-9a27-5ef6b791141b",
   "metadata": {},
   "outputs": [
    {
     "name": "stdout",
     "output_type": "stream",
     "text": [
      "[1 2 3 4 5]\n",
      "[2 3 1 4 6]\n"
     ]
    }
   ],
   "source": [
    "print(x)\n",
    "print(y)"
   ]
  },
  {
   "cell_type": "code",
   "execution_count": 91,
   "id": "565e9716-83dc-4c44-992e-42f0a14c5dea",
   "metadata": {},
   "outputs": [
    {
     "data": {
      "text/plain": [
       "array([ 2,  6,  3, 16, 30])"
      ]
     },
     "execution_count": 91,
     "metadata": {},
     "output_type": "execute_result"
    }
   ],
   "source": [
    "x * y"
   ]
  },
  {
   "cell_type": "code",
   "execution_count": 92,
   "id": "1998acc5-26b3-45a4-b267-68c1d77b5818",
   "metadata": {},
   "outputs": [
    {
     "data": {
      "text/plain": [
       "57"
      ]
     },
     "execution_count": 92,
     "metadata": {},
     "output_type": "execute_result"
    }
   ],
   "source": [
    "x.dot(y)"
   ]
  },
  {
   "cell_type": "markdown",
   "id": "51c715e6-8302-46f1-9b5e-b6e104e37c37",
   "metadata": {},
   "source": [
    "## Smart data analysis with numpy"
   ]
  },
  {
   "cell_type": "code",
   "execution_count": 93,
   "id": "00e53d15-c0a7-46ff-96ec-b15b14505b9c",
   "metadata": {},
   "outputs": [],
   "source": [
    "p_heights = np.genfromtxt('president_heights.csv', delimiter=',', dtype='str', skip_header=1)"
   ]
  },
  {
   "cell_type": "code",
   "execution_count": 95,
   "id": "42128045-072b-4f08-96a5-f721b341e12c",
   "metadata": {},
   "outputs": [
    {
     "data": {
      "text/plain": [
       "array([['1', 'George Washington', '189'],\n",
       "       ['2', 'John Adams', '170'],\n",
       "       ['3', 'Thomas Jefferson', '189'],\n",
       "       ['4', 'James Madison', '163'],\n",
       "       ['5', 'James Monroe', '183'],\n",
       "       ['6', 'John Quincy Adams', '171'],\n",
       "       ['7', 'Andrew Jackson', '185'],\n",
       "       ['8', 'Martin Van Buren', '168'],\n",
       "       ['9', 'William Henry Harrison', '173'],\n",
       "       ['10', 'John Tyler', '183']], dtype='<U22')"
      ]
     },
     "execution_count": 95,
     "metadata": {},
     "output_type": "execute_result"
    }
   ],
   "source": [
    "p_heights[:10]"
   ]
  },
  {
   "cell_type": "code",
   "execution_count": 96,
   "id": "1246329d-6f11-4061-a642-e78f76e00cb3",
   "metadata": {},
   "outputs": [
    {
     "data": {
      "text/plain": [
       "42"
      ]
     },
     "execution_count": 96,
     "metadata": {},
     "output_type": "execute_result"
    }
   ],
   "source": [
    "len(p_heights)"
   ]
  },
  {
   "cell_type": "code",
   "execution_count": 99,
   "id": "ffe4ee12-6d00-41c1-9012-f645441967cb",
   "metadata": {},
   "outputs": [],
   "source": [
    "just_height = p_heights[ :, 2].astype('int')"
   ]
  },
  {
   "cell_type": "code",
   "execution_count": 100,
   "id": "03cde378-334c-4766-9fd4-9f3d2bd23271",
   "metadata": {},
   "outputs": [
    {
     "data": {
      "text/plain": [
       "array([189, 170, 189, 163, 183, 171, 185, 168, 173, 183])"
      ]
     },
     "execution_count": 100,
     "metadata": {},
     "output_type": "execute_result"
    }
   ],
   "source": [
    "just_height[:10]"
   ]
  },
  {
   "cell_type": "code",
   "execution_count": 101,
   "id": "8aeca2cf-9f74-42d6-b295-1e29db79d416",
   "metadata": {},
   "outputs": [
    {
     "data": {
      "text/plain": [
       "179.73809523809524"
      ]
     },
     "execution_count": 101,
     "metadata": {},
     "output_type": "execute_result"
    }
   ],
   "source": [
    "np.mean(just_height)"
   ]
  },
  {
   "cell_type": "code",
   "execution_count": 102,
   "id": "76693648-cd73-4ae5-9f28-cb109b7e9c77",
   "metadata": {},
   "outputs": [
    {
     "data": {
      "text/plain": [
       "6.931843442745892"
      ]
     },
     "execution_count": 102,
     "metadata": {},
     "output_type": "execute_result"
    }
   ],
   "source": [
    "np.std(just_height)"
   ]
  },
  {
   "cell_type": "code",
   "execution_count": 103,
   "id": "1ae2e673-fe48-41c8-9663-462737a5d79e",
   "metadata": {},
   "outputs": [],
   "source": [
    "test_x = np.array([1,2,3,4])"
   ]
  },
  {
   "cell_type": "code",
   "execution_count": 104,
   "id": "5441aac9-567f-4fac-b05e-fde54af99a48",
   "metadata": {},
   "outputs": [
    {
     "data": {
      "text/plain": [
       "array([2, 3])"
      ]
     },
     "execution_count": 104,
     "metadata": {},
     "output_type": "execute_result"
    }
   ],
   "source": [
    "test_x[1:3]"
   ]
  },
  {
   "cell_type": "code",
   "execution_count": 105,
   "id": "eb1bb469-ac31-4260-89ea-396260881a56",
   "metadata": {},
   "outputs": [
    {
     "data": {
      "text/plain": [
       "array([2, 4])"
      ]
     },
     "execution_count": 105,
     "metadata": {},
     "output_type": "execute_result"
    }
   ],
   "source": [
    "test_x[ [False, True, False, True]   ]"
   ]
  },
  {
   "cell_type": "code",
   "execution_count": 106,
   "id": "51efad04-ec87-4e79-b033-de3f769dd515",
   "metadata": {},
   "outputs": [
    {
     "data": {
      "text/plain": [
       "array([False, False,  True,  True])"
      ]
     },
     "execution_count": 106,
     "metadata": {},
     "output_type": "execute_result"
    }
   ],
   "source": [
    "test_x > 2"
   ]
  },
  {
   "cell_type": "code",
   "execution_count": 107,
   "id": "76121c22-0cb5-4c88-912a-52025945e7d2",
   "metadata": {},
   "outputs": [
    {
     "data": {
      "text/plain": [
       "array([3, 4])"
      ]
     },
     "execution_count": 107,
     "metadata": {},
     "output_type": "execute_result"
    }
   ],
   "source": [
    "test_x [ test_x > 2 ]"
   ]
  },
  {
   "cell_type": "code",
   "execution_count": 108,
   "id": "daf1b3c8-dbdc-4635-be08-b8f2c85701e8",
   "metadata": {},
   "outputs": [
    {
     "data": {
      "text/plain": [
       "array([2, 4])"
      ]
     },
     "execution_count": 108,
     "metadata": {},
     "output_type": "execute_result"
    }
   ],
   "source": [
    "test_x [ test_x % 2 == 0 ]"
   ]
  },
  {
   "cell_type": "code",
   "execution_count": 109,
   "id": "63de3631-f764-434a-8a58-128a08075ce4",
   "metadata": {},
   "outputs": [
    {
     "data": {
      "text/plain": [
       "array([189, 170, 189, 163, 183, 171, 185, 168, 173, 183, 173, 173, 175,\n",
       "       178, 183, 193, 178, 173, 174, 183, 183, 168, 170, 178, 182, 180,\n",
       "       183, 178, 182, 188, 175, 179, 183, 193, 182, 183, 177, 185, 188,\n",
       "       188, 182, 185])"
      ]
     },
     "execution_count": 109,
     "metadata": {},
     "output_type": "execute_result"
    }
   ],
   "source": [
    "just_height"
   ]
  },
  {
   "cell_type": "code",
   "execution_count": 110,
   "id": "36c279c8-14a9-4564-8706-2836d2437e3f",
   "metadata": {},
   "outputs": [
    {
     "data": {
      "text/plain": [
       "10"
      ]
     },
     "execution_count": 110,
     "metadata": {},
     "output_type": "execute_result"
    }
   ],
   "source": [
    "len(just_height [ just_height >= 185 ])"
   ]
  },
  {
   "cell_type": "code",
   "execution_count": 111,
   "id": "aa6f146f-29b6-42d3-938c-db3808160620",
   "metadata": {},
   "outputs": [
    {
     "data": {
      "text/plain": [
       "array([189, 189, 185, 193, 188, 193, 185, 188, 188, 185])"
      ]
     },
     "execution_count": 111,
     "metadata": {},
     "output_type": "execute_result"
    }
   ],
   "source": [
    "just_height [ just_height >= 185  ]"
   ]
  },
  {
   "cell_type": "code",
   "execution_count": 112,
   "id": "1cb7400b-b2a2-4ea5-88c5-2701b900bdc0",
   "metadata": {},
   "outputs": [],
   "source": [
    "\n",
    "height_filter = just_height >= 185"
   ]
  },
  {
   "cell_type": "code",
   "execution_count": 113,
   "id": "88bfaa79-5a71-4c96-ab74-34a56e3cc109",
   "metadata": {},
   "outputs": [
    {
     "data": {
      "text/plain": [
       "array([ True, False,  True, False, False, False,  True, False, False,\n",
       "       False, False, False, False, False, False,  True, False, False,\n",
       "       False, False, False, False, False, False, False, False, False,\n",
       "       False, False,  True, False, False, False,  True, False, False,\n",
       "       False,  True,  True,  True, False,  True])"
      ]
     },
     "execution_count": 113,
     "metadata": {},
     "output_type": "execute_result"
    }
   ],
   "source": [
    "height_filter"
   ]
  },
  {
   "cell_type": "code",
   "execution_count": 114,
   "id": "deb0376c-c49d-4532-8a12-9470d49f8b74",
   "metadata": {},
   "outputs": [
    {
     "data": {
      "text/plain": [
       "array([['1', 'George Washington', '189'],\n",
       "       ['3', 'Thomas Jefferson', '189'],\n",
       "       ['7', 'Andrew Jackson', '185'],\n",
       "       ['16', 'Abraham Lincoln', '193'],\n",
       "       ['32', 'Franklin D. Roosevelt', '188'],\n",
       "       ['36', 'Lyndon B. Johnson', '193'],\n",
       "       ['40', 'Ronald Reagan', '185'],\n",
       "       ['41', 'George H. W. Bush', '188'],\n",
       "       ['42', 'Bill Clinton', '188'],\n",
       "       ['44', 'Barack Obama', '185']], dtype='<U22')"
      ]
     },
     "execution_count": 114,
     "metadata": {},
     "output_type": "execute_result"
    }
   ],
   "source": [
    "p_heights[ height_filter ]"
   ]
  },
  {
   "cell_type": "code",
   "execution_count": 115,
   "id": "5375f41c-ed5c-426a-9eb9-faa74930f26d",
   "metadata": {},
   "outputs": [
    {
     "data": {
      "text/plain": [
       "array([['4', 'James Madison', '163']], dtype='<U22')"
      ]
     },
     "execution_count": 115,
     "metadata": {},
     "output_type": "execute_result"
    }
   ],
   "source": [
    "p_heights [ just_height <= 165 ]"
   ]
  },
  {
   "cell_type": "markdown",
   "id": "f5eacb70-fd01-4c18-b813-d4e5ca65c1d7",
   "metadata": {
    "tags": []
   },
   "source": [
    "# Graphs with matplotlib"
   ]
  },
  {
   "cell_type": "code",
   "execution_count": 158,
   "id": "11e50eda-1ebb-4844-adbb-9f766369b28b",
   "metadata": {},
   "outputs": [],
   "source": [
    "import matplotlib.pyplot as plt"
   ]
  },
  {
   "cell_type": "code",
   "execution_count": 159,
   "id": "c8a5f23e-8833-4bc8-be87-803aef8aab36",
   "metadata": {},
   "outputs": [],
   "source": [
    "x = np.linspace(0, 2*np.pi, 101)\n",
    "y_sin = np.sin(x)\n",
    "y_cos = np.cos(x)\n",
    "y2 = 2*x**2 -7*x -16"
   ]
  },
  {
   "cell_type": "code",
   "execution_count": 118,
   "id": "a5717b34-8a7f-4d53-8ceb-a0010064649a",
   "metadata": {},
   "outputs": [],
   "source": []
  },
  {
   "cell_type": "code",
   "execution_count": 167,
   "id": "2b97f2da-67a0-4d3c-8436-ab72f20dd172",
   "metadata": {},
   "outputs": [
    {
     "data": {
      "image/png": "[encoded data removed]",
      "text/plain": [
       "<Figure size 1080x432 with 1 Axes>"
      ]
     },
     "metadata": {
      "needs_background": "light"
     },
     "output_type": "display_data"
    }
   ],
   "source": [
    "plt.figure(figsize=(15,6))\n",
    "plt.plot(x, y_sin, linewidth=3, color=(1,0,1), linestyle='--', label='sinus')\n",
    "plt.plot(x, y_cos, linewidth=3, color=(1,0,0), linestyle='', marker='.', label='cosinus')\n",
    "plt.title(\"Trigonometry Functions\")\n",
    "plt.xlabel(\"This is the x label\")\n",
    "plt.ylabel(\"This is the y label\")\n",
    "plt.legend()\n",
    "plt.savefig('my_graph.png', facecolor='white')"
   ]
  },
  {
   "cell_type": "code",
   "execution_count": 140,
   "id": "0ca92e0e-d763-479e-b273-04f0d1657ad1",
   "metadata": {},
   "outputs": [
    {
     "data": {
      "text/plain": [
       "array([189, 170, 189, 163, 183, 171, 185, 168, 173, 183, 173, 173, 175,\n",
       "       178, 183, 193, 178, 173, 174, 183, 183, 168, 170, 178, 182, 180,\n",
       "       183, 178, 182, 188, 175, 179, 183, 193, 182, 183, 177, 185, 188,\n",
       "       188, 182, 185])"
      ]
     },
     "execution_count": 140,
     "metadata": {},
     "output_type": "execute_result"
    }
   ],
   "source": [
    "just_height"
   ]
  },
  {
   "cell_type": "code",
   "execution_count": 144,
   "id": "b6008380-f6e4-4e4d-a85a-ff08ce20e77f",
   "metadata": {},
   "outputs": [
    {
     "data": {
      "text/plain": [
       "(array([ 1.,  2.,  3.,  5.,  3.,  6., 12.,  3.,  5.,  2.]),\n",
       " array([163., 166., 169., 172., 175., 178., 181., 184., 187., 190., 193.]),\n",
       " <BarContainer object of 10 artists>)"
      ]
     },
     "execution_count": 144,
     "metadata": {},
     "output_type": "execute_result"
    },
    {
     "data": {
      "image/png": "[encoded data removed]",
      "text/plain": [
       "<Figure size 432x288 with 1 Axes>"
      ]
     },
     "metadata": {
      "needs_background": "light"
     },
     "output_type": "display_data"
    }
   ],
   "source": [
    "plt.hist(just_height, rwidth=0.9, color=(0.3,0.3,0.3))"
   ]
  }
 ],
 "metadata": {
  "kernelspec": {
   "display_name": "Python 3 (ipykernel)",
   "language": "python",
   "name": "python3"
  },
  "language_info": {
   "codemirror_mode": {
    "name": "ipython",
    "version": 3
   },
   "file_extension": ".py",
   "mimetype": "text/x-python",
   "name": "python",
   "nbconvert_exporter": "python",
   "pygments_lexer": "ipython3",
   "version": "3.9.7"
  }
 },
 "nbformat": 4,
 "nbformat_minor": 5
}
