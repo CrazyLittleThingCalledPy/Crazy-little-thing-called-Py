{
 "cells": [
  {
   "cell_type": "markdown",
   "metadata": {},
   "source": [
    "# Exercise 4 - Crazy little thing called Py 2022\n",
    "\n",
    "Remember, try it by yourself first, and if you don't succeed try again, this small frustrating moments are actually part of the process. But, if you really need some help, you can find it at the bottom of this notebook (contains lots of spoilers)"
   ]
  },
  {
   "cell_type": "markdown",
   "metadata": {},
   "source": [
    "## Dataset 1 - Bachelors degree for women vs men\n",
    "\n",
    "First we are going to use NumPy and MatPlotLib to analyze a dataset holding the percentage of US women who got a Bachelors degree, in various fields, between 1970 and 2011. The data was compiled by a data scientist named Randel Olson and published on his blog.\n",
    "\n",
    "Before you look at the data, take a guess, what is the percetage of women who got a bachelors degree in Math and Statistics in 1970, and 2011. What about Engineering? Computer Science? Biology? Psychology?\n",
    "\n",
    "the dataset can be found in the attached file 'percent-bachelors-degrees-women-usa.csv'"
   ]
  },
  {
   "cell_type": "markdown",
   "metadata": {},
   "source": [
    "### Step 1.0\n",
    "Open the dataset file 'percent-bachelors-degrees-women-usa.csv' in Excel or Notepad (or jupyter lab) and see how it looks like. This is the first step you should always take when approaching data... looking... with your eyes"
   ]
  },
  {
   "cell_type": "markdown",
   "metadata": {},
   "source": [
    "### Step 1.1\n",
    "Let's create a list holding just the column names... we can call it column_names. There are many ways to do it (in Python there alwyas are), just pick one and make it happen. \n",
    "\n",
    "tip1: after creating the fp object (fp = open...) you can actualy read one line if you like and get it as a string. you can check what function are available for the fp object and use it."
   ]
  },
  {
   "cell_type": "code",
   "execution_count": null,
   "metadata": {},
   "outputs": [],
   "source": []
  },
  {
   "cell_type": "markdown",
   "metadata": {},
   "source": [
    "### Step 1.2\n",
    "\n",
    "Create a 2D numpy array from the rest of the data (without the title row), it is fully numeric, and since there are floating points values present, all the data will be floats (remember, numpy arrays hold one type).\n",
    "\n",
    "Tip: There are many ways to do this in python (as always), but numpy has a quick one-liner for this task. Read about the genfromtxt function and you will have another trick in your belt (and don't forget to specify delimiter and skip-header values)."
   ]
  },
  {
   "cell_type": "code",
   "execution_count": null,
   "metadata": {},
   "outputs": [],
   "source": []
  },
  {
   "cell_type": "markdown",
   "metadata": {},
   "source": [
    "### Step 1.3\n",
    "Now it's plotting time. Create a plot for the field of biology (column 4) agains time (column 0), with a line for the percentage of women and a line for the percentage of men (you will need to create this one).\n",
    "\n",
    "you don't actually need to create any new variable. remember that your data is in a numpy array, and we can slice it to get the column we need, and also calculate a new array using intuitive math on the data we have."
   ]
  },
  {
   "cell_type": "code",
   "execution_count": null,
   "metadata": {},
   "outputs": [],
   "source": []
  },
  {
   "cell_type": "markdown",
   "metadata": {},
   "source": [
    "### Step 1.4\n",
    "go back to the code cell above and add more code to it:<br>\n",
    "- Make the lines a little thicker<br>\n",
    "- Add the title 'Biology'<br>\n",
    "- Add the x-label 'Year'<br>\n",
    "- Add the y_label 'Percent'<br>\n",
    "- Add a legend with 'Women' and 'Men' for the lines\n",
    "\n",
    "Bonus:<br>\n",
    "Make this graph your own by changing color, and perhaps modifying other aspects of the presentation. Share you creationg with us on telegram."
   ]
  },
  {
   "cell_type": "markdown",
   "metadata": {},
   "source": [
    "### Step 1.5\n",
    "Create 4 additional graphs (we will learn about sub-plots that enable multiple graphs on the same figure in another lesson) for columns 7, 9, 13 and 15.\n",
    "\n",
    "What can we learn from these graphs?"
   ]
  },
  {
   "cell_type": "code",
   "execution_count": null,
   "metadata": {},
   "outputs": [],
   "source": []
  },
  {
   "cell_type": "code",
   "execution_count": null,
   "metadata": {},
   "outputs": [],
   "source": []
  },
  {
   "cell_type": "code",
   "execution_count": null,
   "metadata": {},
   "outputs": [],
   "source": []
  },
  {
   "cell_type": "code",
   "execution_count": null,
   "metadata": {},
   "outputs": [],
   "source": []
  },
  {
   "cell_type": "markdown",
   "metadata": {},
   "source": [
    "### Step 1.6\n",
    "Explore the dataset further if you wish, share with us on telegram if you found something interesting."
   ]
  },
  {
   "cell_type": "code",
   "execution_count": null,
   "metadata": {},
   "outputs": [],
   "source": []
  },
  {
   "cell_type": "markdown",
   "metadata": {},
   "source": [
    "## Dataset 2 - Yellow Taxis in New York May 2020 (corona time)\n",
    "\n",
    "We are going to analyze a dataset holding taxi ride information from about 350,000 rides performed in May of 2020. \n",
    "\n",
    "the dataset can be found in the attached file 'yellow_tripdata_2020-05.csv'"
   ]
  },
  {
   "cell_type": "markdown",
   "metadata": {},
   "source": [
    "### Step 2.0\n",
    "Open the dataset file 'yellow_tripdata_2020-05.csv' in Excel or Notepad and see how it looks like."
   ]
  },
  {
   "cell_type": "markdown",
   "metadata": {},
   "source": [
    "### Step 2.1\n",
    "The data in this file is a little messy, it holds both numeric and text data. In this exercise I only want you to get the 'fare_amount' column (column 10), into a numpy array, as floats. \n",
    "\n",
    "So import the 'fare_amount' values, without the column title, into a numpy array\n",
    "\n",
    "Check and see how many values do we have in the data."
   ]
  },
  {
   "cell_type": "code",
   "execution_count": null,
   "metadata": {},
   "outputs": [],
   "source": []
  },
  {
   "cell_type": "markdown",
   "metadata": {},
   "source": [
    "### Step 2.2\n",
    "for the data you extracted, create a histogram plot using plt.hist, but use range=(0,100) and bins=20 as additional parameters to the function. \n",
    "\n",
    "Try the same function without the range restriction and you will understand why I asked you to apply it. The data in this dataset is really messy, it has many errors, such as 0$ rides and rides with hundreds of thousands of dollars."
   ]
  },
  {
   "cell_type": "code",
   "execution_count": null,
   "metadata": {},
   "outputs": [],
   "source": []
  },
  {
   "cell_type": "markdown",
   "metadata": {},
   "source": [
    "### Step 2.3\n",
    "Lets clean the data in this column a little bit by filtering it to hold values that are larger than 1 USD and lower than 100 USD (we saw in the histogram that 100 is a sensible maximum value)\n",
    "\n",
    "Use the 'Boolean Indexing' trick to create a filter that detects values larger than 1 and use it to crate a new, cleaner dataset.\n",
    "\n",
    "Use the 'Boolean Indexing' trick to create a filter that detects values lower than 100 and use it to create the final dataset.\n",
    "\n",
    "Check and see how many values are left in the data."
   ]
  },
  {
   "cell_type": "code",
   "execution_count": null,
   "metadata": {},
   "outputs": [],
   "source": []
  },
  {
   "cell_type": "markdown",
   "metadata": {},
   "source": [
    "### Step 2.4\n",
    "Using numpy functions, calculate and print:\n",
    "- The mean value\n",
    "- The standard deviation\n",
    "- The median"
   ]
  },
  {
   "cell_type": "code",
   "execution_count": null,
   "metadata": {},
   "outputs": [],
   "source": []
  },
  {
   "cell_type": "markdown",
   "metadata": {},
   "source": [
    "### Step 2.5\n",
    "You can explore the dataset further and share interesting finding with us on telegram"
   ]
  },
  {
   "cell_type": "code",
   "execution_count": null,
   "metadata": {},
   "outputs": [],
   "source": []
  },
  {
   "cell_type": "markdown",
   "metadata": {},
   "source": [
    "# General Python Practice Question\n",
    "Create a function that receives two strings and checks whether the second string is exactly one manipulation away from the first string. A manipulation can be deleting or adding a character, or modifying a character. The function returns True of False.\n",
    "\n",
    "For example, ‘Python’ is exactly one manipulation away from ‘python’ or ‘Python1’, or ‘Pthon’\n"
   ]
  },
  {
   "cell_type": "code",
   "execution_count": null,
   "metadata": {},
   "outputs": [],
   "source": []
  },
  {
   "cell_type": "markdown",
   "metadata": {},
   "source": [
    "# Help Section\n",
    "### With answers and spoilers"
   ]
  },
  {
   "cell_type": "code",
   "execution_count": 1,
   "metadata": {},
   "outputs": [],
   "source": [
    "import numpy as np\n",
    "import matplotlib.pyplot as plt\n",
    "\n",
    "#1.1\n",
    "\n",
    "fp = open('percent-bachelors-degrees-women-usa.csv')\n",
    "columns = fp.readline().split(',')\n",
    "fp.close()\n",
    "\n",
    "#1.2\n",
    "\n",
    "data = np.genfromtxt('percent-bachelors-degrees-women-usa.csv', delimiter=',', skip_header=1)"
   ]
  },
  {
   "cell_type": "code",
   "execution_count": 2,
   "metadata": {},
   "outputs": [
    {
     "data": {
      "text/plain": [
       "<matplotlib.legend.Legend at 0x22fdc7fe148>"
      ]
     },
     "execution_count": 2,
     "metadata": {},
     "output_type": "execute_result"
    },
    {
     "data": {
      "image/png": "[encoded data removed]",
      "text/plain": [
       "<Figure size 864x504 with 1 Axes>"
      ]
     },
     "metadata": {
      "needs_background": "light"
     },
     "output_type": "display_data"
    }
   ],
   "source": [
    "#1.3 & 1.4\n",
    "\n",
    "plt.figure(figsize=(12,7))\n",
    "plt.plot(data[:,0], data[:,4], label='Women', linewidth=3, color=(0.5,1,0.5))\n",
    "plt.plot(data[:,0], 100-data[:,4], label='Men', linewidth=3, color=(0.5,0.5,1))\n",
    "plt.title(columns[4])\n",
    "plt.xlabel('Time')\n",
    "plt.ylabel('Percent')\n",
    "plt.legend()"
   ]
  },
  {
   "cell_type": "code",
   "execution_count": 3,
   "metadata": {},
   "outputs": [
    {
     "name": "stdout",
     "output_type": "stream",
     "text": [
      "There are 348371 values in the data\n"
     ]
    }
   ],
   "source": [
    "#2.1\n",
    "\n",
    "data = np.genfromtxt('yellow_tripdata_2020-05.csv', delimiter=',', skip_header=1, dtype='float')[:,10]\n",
    "print(f'There are {len(data)} values in the data')"
   ]
  },
  {
   "cell_type": "code",
   "execution_count": 4,
   "metadata": {},
   "outputs": [
    {
     "data": {
      "text/plain": [
       "(array([3.86460e+04, 1.48875e+05, 6.28880e+04, 2.83600e+04, 1.94050e+04,\n",
       "        1.29440e+04, 1.02150e+04, 7.62400e+03, 5.13500e+03, 3.71300e+03,\n",
       "        4.42900e+03, 1.46200e+03, 1.01000e+03, 6.53000e+02, 4.55000e+02,\n",
       "        2.40000e+02, 1.54000e+02, 9.70000e+01, 1.11000e+02, 1.23000e+02]),\n",
       " array([  0.,   5.,  10.,  15.,  20.,  25.,  30.,  35.,  40.,  45.,  50.,\n",
       "         55.,  60.,  65.,  70.,  75.,  80.,  85.,  90.,  95., 100.]),\n",
       " <a list of 20 Patch objects>)"
      ]
     },
     "execution_count": 4,
     "metadata": {},
     "output_type": "execute_result"
    },
    {
     "data": {
      "image/png": "[encoded data removed]",
      "text/plain": [
       "<Figure size 432x288 with 1 Axes>"
      ]
     },
     "metadata": {
      "needs_background": "light"
     },
     "output_type": "display_data"
    }
   ],
   "source": [
    "#2.2\n",
    "\n",
    "plt.hist(data, range=(0,100), bins=20) \n",
    "\n",
    "#you can add a _ = before the function to avoid the printing of the data : \n",
    "# _ = plt.hist(data, range=(0,100), bins=20) "
   ]
  },
  {
   "cell_type": "code",
   "execution_count": 5,
   "metadata": {
    "scrolled": true
   },
   "outputs": [
    {
     "name": "stdout",
     "output_type": "stream",
     "text": [
      "After cleaning, there are 346182 values left in the data\n"
     ]
    }
   ],
   "source": [
    "#2.3\n",
    "\n",
    "filter1 = data>1\n",
    "data = data[filter1]\n",
    "filter2 = data<100\n",
    "data = data[filter2]\n",
    "print(f'After cleaning, there are {len(data)} values left in the data')\n",
    "\n",
    "# I would actually write data = data[(data>1)&(data<100)]"
   ]
  },
  {
   "cell_type": "code",
   "execution_count": 6,
   "metadata": {},
   "outputs": [
    {
     "name": "stdout",
     "output_type": "stream",
     "text": [
      "Mean = 13.67$\n",
      "Std = 12.03$\n",
      "Median = 9.0$\n"
     ]
    }
   ],
   "source": [
    "#2.4\n",
    "\n",
    "print(f'Mean = {np.mean(data):.2f}$')  #see how I restricted the number of digits for the float\n",
    "print(f'Std = {np.std(data):.2f}$')\n",
    "print(f'Median = {np.median(data)}$')"
   ]
  }
 ],
 "metadata": {
  "kernelspec": {
   "display_name": "Python 3 (ipykernel)",
   "language": "python",
   "name": "python3"
  },
  "language_info": {
   "codemirror_mode": {
    "name": "ipython",
    "version": 3
   },
   "file_extension": ".py",
   "mimetype": "text/x-python",
   "name": "python",
   "nbconvert_exporter": "python",
   "pygments_lexer": "ipython3",
   "version": "3.9.7"
  }
 },
 "nbformat": 4,
 "nbformat_minor": 4
}
