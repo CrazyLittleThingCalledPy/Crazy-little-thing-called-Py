{
 "cells": [
  {
   "cell_type": "markdown",
   "id": "36eb5626-bdb1-4f65-937b-b4293404d0b3",
   "metadata": {},
   "source": [
    "## List Comprehension"
   ]
  },
  {
   "cell_type": "code",
   "execution_count": 1,
   "id": "70803ddf-998b-4d57-b3f6-8cd9aee226dd",
   "metadata": {},
   "outputs": [],
   "source": [
    "list_of_numbers = list(range(20))"
   ]
  },
  {
   "cell_type": "code",
   "execution_count": 2,
   "id": "6483c2c6-6bd0-41be-a0c1-6d09d969b119",
   "metadata": {},
   "outputs": [
    {
     "data": {
      "text/plain": [
       "[0, 1, 2, 3, 4, 5, 6, 7, 8, 9, 10, 11, 12, 13, 14, 15, 16, 17, 18, 19]"
      ]
     },
     "execution_count": 2,
     "metadata": {},
     "output_type": "execute_result"
    }
   ],
   "source": [
    "list_of_numbers"
   ]
  },
  {
   "cell_type": "code",
   "execution_count": 4,
   "id": "69b2f406-593f-4efb-8daa-a17a8f2a92e7",
   "metadata": {},
   "outputs": [
    {
     "data": {
      "text/plain": [
       "[0, 2, 4, 6, 8, 10, 12, 14, 16, 18, 20, 22, 24, 26, 28, 30, 32, 34, 36, 38]"
      ]
     },
     "execution_count": 4,
     "metadata": {},
     "output_type": "execute_result"
    }
   ],
   "source": [
    "list(map(lambda x: x*2, list_of_numbers))"
   ]
  },
  {
   "cell_type": "code",
   "execution_count": 6,
   "id": "426dbcb4-19f1-43f5-8ddf-822c9c1ba647",
   "metadata": {},
   "outputs": [
    {
     "data": {
      "text/plain": [
       "[0, 2, 4, 6, 8, 10, 12, 14, 16, 18, 20, 22, 24, 26, 28, 30, 32, 34, 36, 38]"
      ]
     },
     "execution_count": 6,
     "metadata": {},
     "output_type": "execute_result"
    }
   ],
   "source": [
    "result1 = [x*2 for x in list_of_numbers]\n",
    "result1"
   ]
  },
  {
   "cell_type": "code",
   "execution_count": 7,
   "id": "913e954b-5696-4c82-a3e8-747811244398",
   "metadata": {},
   "outputs": [
    {
     "data": {
      "text/plain": [
       "[5, 6, 7, 8, 9, 10, 11, 12, 13, 14, 15, 16, 17, 18, 19, 20, 21, 22, 23, 24]"
      ]
     },
     "execution_count": 7,
     "metadata": {},
     "output_type": "execute_result"
    }
   ],
   "source": [
    "[x+5 for x in range(20)]"
   ]
  },
  {
   "cell_type": "code",
   "execution_count": 9,
   "id": "67c7fbb8-ea86-4b26-9005-f7a067bf73e4",
   "metadata": {},
   "outputs": [
    {
     "data": {
      "text/plain": [
       "[1,\n",
       " 2,\n",
       " 4,\n",
       " 8,\n",
       " 16,\n",
       " 32,\n",
       " 64,\n",
       " 128,\n",
       " 256,\n",
       " 512,\n",
       " 1024,\n",
       " 2048,\n",
       " 4096,\n",
       " 8192,\n",
       " 16384,\n",
       " 32768,\n",
       " 65536,\n",
       " 131072,\n",
       " 262144,\n",
       " 524288]"
      ]
     },
     "execution_count": 9,
     "metadata": {},
     "output_type": "execute_result"
    }
   ],
   "source": [
    "[2**x for x in range(20)]"
   ]
  },
  {
   "cell_type": "code",
   "execution_count": 10,
   "id": "7ce78f14-47a0-4447-9469-77627b56fb7d",
   "metadata": {},
   "outputs": [
    {
     "data": {
      "text/plain": [
       "[(0, 0, 0),\n",
       " (-1, 0, 1),\n",
       " (-2, 0, 2),\n",
       " (-3, 0, 3),\n",
       " (-4, 0, 4),\n",
       " (-5, 0, 5),\n",
       " (-6, 0, 6),\n",
       " (-7, 0, 7),\n",
       " (-8, 0, 8),\n",
       " (-9, 0, 9),\n",
       " (-10, 0, 10),\n",
       " (-11, 0, 11),\n",
       " (-12, 0, 12),\n",
       " (-13, 0, 13),\n",
       " (-14, 0, 14),\n",
       " (-15, 0, 15),\n",
       " (-16, 0, 16),\n",
       " (-17, 0, 17),\n",
       " (-18, 0, 18),\n",
       " (-19, 0, 19)]"
      ]
     },
     "execution_count": 10,
     "metadata": {},
     "output_type": "execute_result"
    }
   ],
   "source": [
    "[(-x, 0, x) for x in range(20)]"
   ]
  },
  {
   "cell_type": "code",
   "execution_count": 11,
   "id": "4b2a3335-83d8-4fb4-b472-c43637dbc9ac",
   "metadata": {},
   "outputs": [
    {
     "data": {
      "text/plain": [
       "[1, 4, 16, 64, 256, 1024, 4096, 16384, 65536, 262144]"
      ]
     },
     "execution_count": 11,
     "metadata": {},
     "output_type": "execute_result"
    }
   ],
   "source": [
    "[2**x for x in range(20) if x % 2 == 0]"
   ]
  },
  {
   "cell_type": "code",
   "execution_count": 12,
   "id": "b8030a1f-b70e-4452-94f2-315e6b56e9d9",
   "metadata": {},
   "outputs": [
    {
     "data": {
      "text/plain": [
       "[0, 2, 4, 6, 8, 10, 12, 14, 16, 18]"
      ]
     },
     "execution_count": 12,
     "metadata": {},
     "output_type": "execute_result"
    }
   ],
   "source": [
    "[x for x in range(20) if x % 2 == 0]"
   ]
  },
  {
   "cell_type": "code",
   "execution_count": 13,
   "id": "a6cf3af3-7ffd-442e-8985-f17e94c7c11c",
   "metadata": {},
   "outputs": [],
   "source": [
    "string1 = 'abc'\n",
    "string2 = '123'"
   ]
  },
  {
   "cell_type": "code",
   "execution_count": 14,
   "id": "3487c35d-f8d9-4bb8-81ed-e6706677db44",
   "metadata": {},
   "outputs": [
    {
     "data": {
      "text/plain": [
       "[('a', '1'),\n",
       " ('a', '2'),\n",
       " ('a', '3'),\n",
       " ('b', '1'),\n",
       " ('b', '2'),\n",
       " ('b', '3'),\n",
       " ('c', '1'),\n",
       " ('c', '2'),\n",
       " ('c', '3')]"
      ]
     },
     "execution_count": 14,
     "metadata": {},
     "output_type": "execute_result"
    }
   ],
   "source": [
    "[(i, j) for i in string1 for j in string2]"
   ]
  },
  {
   "cell_type": "code",
   "execution_count": 18,
   "id": "22e745e5-df47-48eb-b207-8609dafb3105",
   "metadata": {},
   "outputs": [],
   "source": [
    "from csv import reader\n",
    "with open('president_heights.csv', encoding='utf-8') as fp:\n",
    "    president_data = list(reader(fp))"
   ]
  },
  {
   "cell_type": "code",
   "execution_count": 21,
   "id": "3bb7da05-cca1-4434-8466-e41b59afcc57",
   "metadata": {},
   "outputs": [
    {
     "data": {
      "text/plain": [
       "[['1', 'George Washington', '189'],\n",
       " ['2', 'John Adams', '170'],\n",
       " ['3', 'Thomas Jefferson', '189'],\n",
       " ['4', 'James Madison', '163'],\n",
       " ['5', 'James Monroe', '183'],\n",
       " ['6', 'John Quincy Adams', '171'],\n",
       " ['7', 'Andrew Jackson', '185'],\n",
       " ['8', 'Martin Van Buren', '168'],\n",
       " ['9', 'William Henry Harrison', '173'],\n",
       " ['10', 'John Tyler', '183']]"
      ]
     },
     "execution_count": 21,
     "metadata": {},
     "output_type": "execute_result"
    }
   ],
   "source": [
    "president_data[1:11]"
   ]
  },
  {
   "cell_type": "code",
   "execution_count": 24,
   "id": "e535e3f7-0526-4003-9923-508fdf7ab9aa",
   "metadata": {},
   "outputs": [
    {
     "name": "stdout",
     "output_type": "stream",
     "text": [
      "[189, 170, 189, 163, 183, 171, 185, 168, 173, 183, 173, 173, 175, 178, 183, 193, 178, 173, 174, 183, 183, 168, 170, 178, 182, 180, 183, 178, 182, 188, 175, 179, 183, 193, 182, 183, 177, 185, 188, 188, 182, 185]\n"
     ]
    }
   ],
   "source": [
    "heights = [int(president[2]) for president in president_data[1:]]\n",
    "print(heights)"
   ]
  },
  {
   "cell_type": "code",
   "execution_count": 25,
   "id": "80061816-0e64-41b2-a210-19323f58612c",
   "metadata": {},
   "outputs": [
    {
     "data": {
      "text/plain": [
       "179.73809523809524"
      ]
     },
     "execution_count": 25,
     "metadata": {},
     "output_type": "execute_result"
    }
   ],
   "source": [
    "sum(heights)/len(heights)"
   ]
  },
  {
   "cell_type": "code",
   "execution_count": 26,
   "id": "95880404-f6e3-48c0-82c8-025fbb57a4fa",
   "metadata": {},
   "outputs": [
    {
     "name": "stdout",
     "output_type": "stream",
     "text": [
      "[189, 189, 185, 193, 188, 193, 185, 188, 188, 185]\n"
     ]
    }
   ],
   "source": [
    "tall = [int(president[2]) for president in president_data[1:] if int(president[2]) >= 185]\n",
    "print(tall)"
   ]
  },
  {
   "cell_type": "code",
   "execution_count": 33,
   "id": "83280166-7a74-4ef6-ab5d-c0692700acdb",
   "metadata": {},
   "outputs": [
    {
     "data": {
      "text/plain": [
       "[['1', 'George Washington', '189'],\n",
       " ['3', 'Thomas Jefferson', '189'],\n",
       " ['7', 'Andrew Jackson', '185'],\n",
       " ['16', 'Abraham Lincoln', '193'],\n",
       " ['32', 'Franklin D. Roosevelt', '188'],\n",
       " ['36', 'Lyndon B. Johnson', '193'],\n",
       " ['40', 'Ronald Reagan', '185'],\n",
       " ['41', 'George H. W. Bush', '188'],\n",
       " ['42', 'Bill Clinton', '188'],\n",
       " ['44', 'Barack Obama', '185']]"
      ]
     },
     "execution_count": 33,
     "metadata": {},
     "output_type": "execute_result"
    }
   ],
   "source": [
    "tall = [president for president in president_data[1:] if int(president[2]) >= 185]\n",
    "tall"
   ]
  },
  {
   "cell_type": "markdown",
   "id": "dbd8a57c-71f9-429a-8f94-e8e2d74e693a",
   "metadata": {},
   "source": [
    "## Date and Time in Python"
   ]
  },
  {
   "cell_type": "code",
   "execution_count": 36,
   "id": "c07c518f-5537-49d5-8a0d-607f552d06aa",
   "metadata": {},
   "outputs": [],
   "source": [
    "import datetime as dt"
   ]
  },
  {
   "cell_type": "code",
   "execution_count": 39,
   "id": "891e07df-2e17-4b07-8fb3-ece5ed7e8570",
   "metadata": {},
   "outputs": [],
   "source": [
    "time1 = dt.datetime(1990, 7, 15, 9, 15, 0)"
   ]
  },
  {
   "cell_type": "code",
   "execution_count": 40,
   "id": "d80bc492-3851-41a0-81ad-9902d20484c7",
   "metadata": {},
   "outputs": [
    {
     "name": "stdout",
     "output_type": "stream",
     "text": [
      "1990-07-15 09:15:00\n"
     ]
    }
   ],
   "source": [
    "print(time1)"
   ]
  },
  {
   "cell_type": "code",
   "execution_count": 41,
   "id": "22f7fc17-8ed6-43b0-99d8-a5cab4dffbe1",
   "metadata": {},
   "outputs": [
    {
     "data": {
      "text/plain": [
       "15"
      ]
     },
     "execution_count": 41,
     "metadata": {},
     "output_type": "execute_result"
    }
   ],
   "source": [
    "time1.day"
   ]
  },
  {
   "cell_type": "code",
   "execution_count": 42,
   "id": "9238d532-d7d2-43b1-a8d4-a47fbf419e48",
   "metadata": {},
   "outputs": [
    {
     "data": {
      "text/plain": [
       "9"
      ]
     },
     "execution_count": 42,
     "metadata": {},
     "output_type": "execute_result"
    }
   ],
   "source": [
    "time1.hour"
   ]
  },
  {
   "cell_type": "code",
   "execution_count": 43,
   "id": "20e68310-eb88-461b-88ec-b8623adbad86",
   "metadata": {},
   "outputs": [
    {
     "data": {
      "text/plain": [
       "1990"
      ]
     },
     "execution_count": 43,
     "metadata": {},
     "output_type": "execute_result"
    }
   ],
   "source": [
    "time1.year"
   ]
  },
  {
   "cell_type": "code",
   "execution_count": 44,
   "id": "4e78f3b9-69de-413c-a999-876f2bfa2100",
   "metadata": {},
   "outputs": [
    {
     "data": {
      "text/plain": [
       "6"
      ]
     },
     "execution_count": 44,
     "metadata": {},
     "output_type": "execute_result"
    }
   ],
   "source": [
    "time1.weekday()"
   ]
  },
  {
   "cell_type": "code",
   "execution_count": 45,
   "id": "c7386d2b-0d64-4733-a2ad-4aa74d485940",
   "metadata": {},
   "outputs": [],
   "source": [
    "now_time = dt.datetime.now()"
   ]
  },
  {
   "cell_type": "code",
   "execution_count": 46,
   "id": "97162ea3-ed0a-4063-9c67-60d3329eeca6",
   "metadata": {},
   "outputs": [
    {
     "data": {
      "text/plain": [
       "datetime.datetime(2022, 6, 30, 19, 36, 31, 163089)"
      ]
     },
     "execution_count": 46,
     "metadata": {},
     "output_type": "execute_result"
    }
   ],
   "source": [
    "now_time"
   ]
  },
  {
   "cell_type": "code",
   "execution_count": 50,
   "id": "00c183f5-d3c4-4f0c-8709-0b43495ae06e",
   "metadata": {},
   "outputs": [
    {
     "data": {
      "text/plain": [
       "3"
      ]
     },
     "execution_count": 50,
     "metadata": {},
     "output_type": "execute_result"
    }
   ],
   "source": [
    "now_time.weekday()"
   ]
  },
  {
   "cell_type": "code",
   "execution_count": 51,
   "id": "18404161-5154-4e2b-9596-7231d584a32f",
   "metadata": {},
   "outputs": [
    {
     "data": {
      "text/plain": [
       "1656606991.163089"
      ]
     },
     "execution_count": 51,
     "metadata": {},
     "output_type": "execute_result"
    }
   ],
   "source": [
    "now_time.timestamp()"
   ]
  },
  {
   "cell_type": "code",
   "execution_count": 56,
   "id": "2ef4e650-0217-4e28-8beb-16b2aeb54d36",
   "metadata": {},
   "outputs": [
    {
     "data": {
      "text/plain": [
       "'30/06/2022 19:36 Thursday'"
      ]
     },
     "execution_count": 56,
     "metadata": {},
     "output_type": "execute_result"
    }
   ],
   "source": [
    "now_time.strftime('%d/%m/%Y %H:%M %A')"
   ]
  },
  {
   "cell_type": "code",
   "execution_count": 57,
   "id": "cf193a69-c10b-4e34-9140-87a63d583422",
   "metadata": {},
   "outputs": [
    {
     "data": {
      "text/plain": [
       "'Thursday'"
      ]
     },
     "execution_count": 57,
     "metadata": {},
     "output_type": "execute_result"
    }
   ],
   "source": [
    "now_time.strftime('%A')"
   ]
  },
  {
   "cell_type": "code",
   "execution_count": 59,
   "id": "cfce3fcb-2d34-4d80-9940-a636a185dd09",
   "metadata": {},
   "outputs": [
    {
     "data": {
      "text/plain": [
       "'June 30, 2022 19:36 Thursday'"
      ]
     },
     "execution_count": 59,
     "metadata": {},
     "output_type": "execute_result"
    }
   ],
   "source": [
    "now_time.strftime('%B %d, %Y %H:%M %A')"
   ]
  },
  {
   "cell_type": "code",
   "execution_count": 63,
   "id": "6c2d6580-1f0d-4796-a33f-392d6564c6fe",
   "metadata": {},
   "outputs": [
    {
     "data": {
      "text/plain": [
       "'2022-06-30 19:36:31.163089'"
      ]
     },
     "execution_count": 63,
     "metadata": {},
     "output_type": "execute_result"
    }
   ],
   "source": [
    "now_time.isoformat(' ')"
   ]
  },
  {
   "cell_type": "code",
   "execution_count": 64,
   "id": "b559ab43-af02-4110-9bee-286e59ba2eb0",
   "metadata": {},
   "outputs": [],
   "source": [
    "delta = dt.timedelta(hours = 50)"
   ]
  },
  {
   "cell_type": "code",
   "execution_count": 65,
   "id": "1d63160f-9c61-460e-9550-2652c49e9384",
   "metadata": {},
   "outputs": [
    {
     "data": {
      "text/plain": [
       "datetime.timedelta(days=2, seconds=7200)"
      ]
     },
     "execution_count": 65,
     "metadata": {},
     "output_type": "execute_result"
    }
   ],
   "source": [
    "delta"
   ]
  },
  {
   "cell_type": "code",
   "execution_count": 66,
   "id": "b3e4073f-36f3-4f02-ba82-f713b7b11abb",
   "metadata": {},
   "outputs": [
    {
     "data": {
      "text/plain": [
       "2"
      ]
     },
     "execution_count": 66,
     "metadata": {},
     "output_type": "execute_result"
    }
   ],
   "source": [
    "delta.days"
   ]
  },
  {
   "cell_type": "code",
   "execution_count": 67,
   "id": "48e689bb-812d-4b59-aee0-8b9fcd7d6e0b",
   "metadata": {},
   "outputs": [
    {
     "data": {
      "text/plain": [
       "7200"
      ]
     },
     "execution_count": 67,
     "metadata": {},
     "output_type": "execute_result"
    }
   ],
   "source": [
    "delta.seconds"
   ]
  },
  {
   "cell_type": "code",
   "execution_count": 69,
   "id": "178fa575-cd53-4989-961d-d6a9b3b19387",
   "metadata": {},
   "outputs": [
    {
     "data": {
      "text/plain": [
       "180000.0"
      ]
     },
     "execution_count": 69,
     "metadata": {},
     "output_type": "execute_result"
    }
   ],
   "source": [
    "delta.total_seconds()"
   ]
  },
  {
   "cell_type": "code",
   "execution_count": 73,
   "id": "41bf2429-7a95-4ebd-bd21-67b81bea9d9d",
   "metadata": {},
   "outputs": [],
   "source": [
    "now_time = dt.datetime.now()\n",
    "later_time = now_time + delta"
   ]
  },
  {
   "cell_type": "code",
   "execution_count": 75,
   "id": "86a7ada3-e522-4717-b193-ba45c9a1380b",
   "metadata": {},
   "outputs": [
    {
     "data": {
      "text/plain": [
       "'02/07/2022 21:47:46 Saturday'"
      ]
     },
     "execution_count": 75,
     "metadata": {},
     "output_type": "execute_result"
    }
   ],
   "source": [
    "later_time.strftime('%d/%m/%Y %H:%M:%S %A')"
   ]
  },
  {
   "cell_type": "code",
   "execution_count": 76,
   "id": "7b5153ed-8144-4e95-a0e2-7a2736cba952",
   "metadata": {},
   "outputs": [
    {
     "data": {
      "text/plain": [
       "datetime.timedelta(days=2, seconds=7200)"
      ]
     },
     "execution_count": 76,
     "metadata": {},
     "output_type": "execute_result"
    }
   ],
   "source": [
    "later_time - now_time"
   ]
  },
  {
   "cell_type": "code",
   "execution_count": 80,
   "id": "b0b17b9a-ff0b-4d31-a5bf-13f0d6f1e6cf",
   "metadata": {},
   "outputs": [],
   "source": [
    "# 23/10/2022 8:00\n",
    "# 1. Create a datetime object with that value\n",
    "# 2. Print out a nice string with this value including the name of the day\n",
    "# 3. How many days do we have until we are back to school?"
   ]
  },
  {
   "cell_type": "code",
   "execution_count": 79,
   "id": "2a78c98d-05fa-4502-84d4-b86df8676df7",
   "metadata": {},
   "outputs": [],
   "source": [
    "import datetime as dt"
   ]
  },
  {
   "cell_type": "code",
   "execution_count": 81,
   "id": "878cdac6-96dc-4bd2-bf39-04444c4f6a90",
   "metadata": {},
   "outputs": [],
   "source": [
    "back_to_school = dt.datetime(2022, 10, 23, 8)"
   ]
  },
  {
   "cell_type": "code",
   "execution_count": 85,
   "id": "b8e2c8a4-4a25-4f63-b63d-5f63cb7dc267",
   "metadata": {},
   "outputs": [
    {
     "data": {
      "text/plain": [
       "'Sunday'"
      ]
     },
     "execution_count": 85,
     "metadata": {},
     "output_type": "execute_result"
    }
   ],
   "source": [
    "back_to_school.strftime('%A')"
   ]
  },
  {
   "cell_type": "code",
   "execution_count": 87,
   "id": "57574875-1165-447c-9821-6e85fead285f",
   "metadata": {},
   "outputs": [
    {
     "name": "stdout",
     "output_type": "stream",
     "text": [
      "2022-10-23 08:00:00\n"
     ]
    }
   ],
   "source": [
    "print(back_to_school)"
   ]
  },
  {
   "cell_type": "code",
   "execution_count": 88,
   "id": "8920bb3a-994a-475a-877e-bdbc16e4887c",
   "metadata": {},
   "outputs": [
    {
     "data": {
      "text/plain": [
       "datetime.timedelta(days=114, seconds=43933, microseconds=373617)"
      ]
     },
     "execution_count": 88,
     "metadata": {},
     "output_type": "execute_result"
    }
   ],
   "source": [
    "back_to_school - now_time"
   ]
  },
  {
   "cell_type": "code",
   "execution_count": 89,
   "id": "6d8b37b5-fbff-4857-a7cd-0d35abbe9cc9",
   "metadata": {},
   "outputs": [
    {
     "data": {
      "text/plain": [
       "12.203611111111112"
      ]
     },
     "execution_count": 89,
     "metadata": {},
     "output_type": "execute_result"
    }
   ],
   "source": [
    "43933/3600"
   ]
  },
  {
   "cell_type": "code",
   "execution_count": 90,
   "id": "a0c41323-25dc-454c-8b53-d785f73458e6",
   "metadata": {},
   "outputs": [],
   "source": [
    "from csv import reader\n",
    "with open('yellow_tripdata_2020-05.csv', encoding='utf-8') as fp:\n",
    "    taxidata = list(reader(fp))"
   ]
  },
  {
   "cell_type": "code",
   "execution_count": 91,
   "id": "d455c6d6-98a9-4683-a0ed-c3be4339e92d",
   "metadata": {},
   "outputs": [
    {
     "data": {
      "text/plain": [
       "['VendorID',\n",
       " 'tpep_pickup_datetime',\n",
       " 'tpep_dropoff_datetime',\n",
       " 'passenger_count',\n",
       " 'trip_distance',\n",
       " 'RatecodeID',\n",
       " 'store_and_fwd_flag',\n",
       " 'PULocationID',\n",
       " 'DOLocationID',\n",
       " 'payment_type',\n",
       " 'fare_amount',\n",
       " 'extra',\n",
       " 'mta_tax',\n",
       " 'tip_amount',\n",
       " 'tolls_amount',\n",
       " 'improvement_surcharge',\n",
       " 'total_amount',\n",
       " 'congestion_surcharge']"
      ]
     },
     "execution_count": 91,
     "metadata": {},
     "output_type": "execute_result"
    }
   ],
   "source": [
    "taxidata[0]"
   ]
  },
  {
   "cell_type": "code",
   "execution_count": 92,
   "id": "549649f4-2d86-4625-ba18-2349569ae3da",
   "metadata": {},
   "outputs": [
    {
     "data": {
      "text/plain": [
       "['1',\n",
       " '2020-05-01 00:02:28',\n",
       " '2020-05-01 00:18:07',\n",
       " '1',\n",
       " '.00',\n",
       " '1',\n",
       " 'N',\n",
       " '234',\n",
       " '256',\n",
       " '1',\n",
       " '12.2',\n",
       " '3',\n",
       " '0.5',\n",
       " '2.4',\n",
       " '0',\n",
       " '0.3',\n",
       " '18.4',\n",
       " '2.5']"
      ]
     },
     "execution_count": 92,
     "metadata": {},
     "output_type": "execute_result"
    }
   ],
   "source": [
    "taxidata[1]"
   ]
  },
  {
   "cell_type": "code",
   "execution_count": 95,
   "id": "1f5cc8fd-4738-4cf1-820a-5a26574fb190",
   "metadata": {},
   "outputs": [
    {
     "name": "stdout",
     "output_type": "stream",
     "text": [
      "2020-05-01 00:02:28\n"
     ]
    }
   ],
   "source": [
    "start_time = dt.datetime.fromisoformat(taxidata[1][1])\n",
    "print(start_time)"
   ]
  },
  {
   "cell_type": "code",
   "execution_count": 97,
   "id": "0bc45c4a-5a32-4d79-b6c6-66ab4306bf4f",
   "metadata": {},
   "outputs": [
    {
     "name": "stdout",
     "output_type": "stream",
     "text": [
      "2020-05-01 00:18:07\n"
     ]
    }
   ],
   "source": [
    "end_time = dt.datetime.fromisoformat(taxidata[1][2])\n",
    "print(end_time)"
   ]
  },
  {
   "cell_type": "code",
   "execution_count": 99,
   "id": "5e3feddd-e7fb-436d-958d-841615bcd999",
   "metadata": {},
   "outputs": [],
   "source": [
    "drive_delta = end_time - start_time"
   ]
  },
  {
   "cell_type": "code",
   "execution_count": 100,
   "id": "697f9e9e-8917-44ea-8b7b-3c161595e51f",
   "metadata": {},
   "outputs": [
    {
     "data": {
      "text/plain": [
       "15.65"
      ]
     },
     "execution_count": 100,
     "metadata": {},
     "output_type": "execute_result"
    }
   ],
   "source": [
    "drive_delta.total_seconds()/60"
   ]
  },
  {
   "cell_type": "code",
   "execution_count": 104,
   "id": "e1e55aa6-5b13-4a78-8b8f-dfeacbd405df",
   "metadata": {},
   "outputs": [],
   "source": [
    "other_format1 = '10:05 23/06/2023'"
   ]
  },
  {
   "cell_type": "code",
   "execution_count": 106,
   "id": "a2b6c5c8-97b4-4006-8b63-83313ab976f0",
   "metadata": {},
   "outputs": [
    {
     "name": "stdout",
     "output_type": "stream",
     "text": [
      "2023-06-23 10:05:00\n"
     ]
    }
   ],
   "source": [
    "date_value1 = dt.datetime.strptime(other_format1, '%H:%M %d/%m/%Y')\n",
    "print(date_value1)"
   ]
  },
  {
   "cell_type": "code",
   "execution_count": 107,
   "id": "878d39aa-2117-4172-bfc8-709ba741ced8",
   "metadata": {},
   "outputs": [],
   "source": [
    "other_format2 = '16:15 January 2 2050'"
   ]
  },
  {
   "cell_type": "code",
   "execution_count": 108,
   "id": "d13afa5a-aacb-4994-9cd2-55199dcddc2b",
   "metadata": {},
   "outputs": [
    {
     "name": "stdout",
     "output_type": "stream",
     "text": [
      "2050-01-02 16:15:00\n"
     ]
    }
   ],
   "source": [
    "date_value2 = dt.datetime.strptime(other_format2, '%H:%M %B %d %Y')\n",
    "print(date_value2)"
   ]
  },
  {
   "cell_type": "code",
   "execution_count": null,
   "id": "277df2a6-3a5a-4a18-9403-3b4b581e43fe",
   "metadata": {},
   "outputs": [],
   "source": []
  }
 ],
 "metadata": {
  "kernelspec": {
   "display_name": "Python 3 (ipykernel)",
   "language": "python",
   "name": "python3"
  },
  "language_info": {
   "codemirror_mode": {
    "name": "ipython",
    "version": 3
   },
   "file_extension": ".py",
   "mimetype": "text/x-python",
   "name": "python",
   "nbconvert_exporter": "python",
   "pygments_lexer": "ipython3",
   "version": "3.9.7"
  }
 },
 "nbformat": 4,
 "nbformat_minor": 5
}
