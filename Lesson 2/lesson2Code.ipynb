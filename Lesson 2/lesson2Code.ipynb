{
 "cells": [
  {
   "cell_type": "markdown",
   "id": "591341b1-4dac-4487-88d4-e9e837873f8c",
   "metadata": {},
   "source": [
    "# Crazy little thing called Py\n",
    "## Lecture 2"
   ]
  },
  {
   "cell_type": "markdown",
   "id": "1c326e71-1a4d-4c4f-b133-aacd3cd0d414",
   "metadata": {
    "tags": []
   },
   "source": [
    "## Tuples\n",
    "immutable lists"
   ]
  },
  {
   "cell_type": "code",
   "execution_count": 1,
   "id": "52bfc540-34fb-4858-bbb3-be38eac98719",
   "metadata": {},
   "outputs": [],
   "source": [
    "my_tuple = (1,2,3,4)"
   ]
  },
  {
   "cell_type": "code",
   "execution_count": 2,
   "id": "b6b2a6f3-99eb-472a-827b-54080e4d1d15",
   "metadata": {},
   "outputs": [
    {
     "data": {
      "text/plain": [
       "(1, 2, 3, 4)"
      ]
     },
     "execution_count": 2,
     "metadata": {},
     "output_type": "execute_result"
    }
   ],
   "source": [
    "my_tuple"
   ]
  },
  {
   "cell_type": "code",
   "execution_count": 3,
   "id": "79dce9e0-e4a9-4be5-ba88-ce16fcc6d01e",
   "metadata": {},
   "outputs": [],
   "source": [
    "my_tuple = (1,2,3,4,5)"
   ]
  },
  {
   "cell_type": "code",
   "execution_count": 4,
   "id": "a889e28b-3e33-4499-8d5b-f2872a27bec0",
   "metadata": {},
   "outputs": [
    {
     "data": {
      "text/plain": [
       "(1, 2, 3, 4, 5)"
      ]
     },
     "execution_count": 4,
     "metadata": {},
     "output_type": "execute_result"
    }
   ],
   "source": [
    "my_tuple"
   ]
  },
  {
   "cell_type": "code",
   "execution_count": 5,
   "id": "fdec9bf1-f9f5-4ee8-9c7a-cec2452f0d33",
   "metadata": {},
   "outputs": [],
   "source": [
    "my_tuple = (1,2.4,-15.9)"
   ]
  },
  {
   "cell_type": "code",
   "execution_count": 6,
   "id": "6b3fd099-691d-43a6-8d49-8bbbb5faeb23",
   "metadata": {},
   "outputs": [
    {
     "data": {
      "text/plain": [
       "(1, 2.4, -15.9)"
      ]
     },
     "execution_count": 6,
     "metadata": {},
     "output_type": "execute_result"
    }
   ],
   "source": [
    "my_tuple"
   ]
  },
  {
   "cell_type": "code",
   "execution_count": 7,
   "id": "6c72a9b0-9b95-4dcf-86fc-954d2b685e42",
   "metadata": {},
   "outputs": [],
   "source": [
    "x, y, z = my_tuple"
   ]
  },
  {
   "cell_type": "code",
   "execution_count": 8,
   "id": "7e7eda61-ee55-449b-90fe-4547e4ac3bed",
   "metadata": {},
   "outputs": [],
   "source": [
    "my_tuple = 1,2,3"
   ]
  },
  {
   "cell_type": "code",
   "execution_count": 9,
   "id": "cb3e7908-1ff6-4c5f-9cbe-cdb1c20481b2",
   "metadata": {},
   "outputs": [
    {
     "data": {
      "text/plain": [
       "(1, 2, 3)"
      ]
     },
     "execution_count": 9,
     "metadata": {},
     "output_type": "execute_result"
    }
   ],
   "source": [
    "my_tuple"
   ]
  },
  {
   "cell_type": "code",
   "execution_count": 10,
   "id": "80ab2222-40f2-433d-9850-73bdbd91c9a9",
   "metadata": {},
   "outputs": [
    {
     "data": {
      "text/plain": [
       "1"
      ]
     },
     "execution_count": 10,
     "metadata": {},
     "output_type": "execute_result"
    }
   ],
   "source": [
    "x"
   ]
  },
  {
   "cell_type": "code",
   "execution_count": 11,
   "id": "76c6ffc2-0a5b-4e69-b5dd-ed6d9a22bcfd",
   "metadata": {},
   "outputs": [
    {
     "data": {
      "text/plain": [
       "2.4"
      ]
     },
     "execution_count": 11,
     "metadata": {},
     "output_type": "execute_result"
    }
   ],
   "source": [
    "y"
   ]
  },
  {
   "cell_type": "code",
   "execution_count": 12,
   "id": "71db043b-5444-4c8d-be91-858b38bba902",
   "metadata": {},
   "outputs": [],
   "source": [
    "temp = x\n",
    "x = y\n",
    "y = temp"
   ]
  },
  {
   "cell_type": "code",
   "execution_count": 13,
   "id": "8a26f4bc-ad2a-4e32-8544-3d365b36f836",
   "metadata": {},
   "outputs": [
    {
     "data": {
      "text/plain": [
       "2.4"
      ]
     },
     "execution_count": 13,
     "metadata": {},
     "output_type": "execute_result"
    }
   ],
   "source": [
    "x"
   ]
  },
  {
   "cell_type": "code",
   "execution_count": 14,
   "id": "86cc724b-b49a-41bd-baa5-626170220905",
   "metadata": {},
   "outputs": [
    {
     "data": {
      "text/plain": [
       "1"
      ]
     },
     "execution_count": 14,
     "metadata": {},
     "output_type": "execute_result"
    }
   ],
   "source": [
    "y"
   ]
  },
  {
   "cell_type": "code",
   "execution_count": 15,
   "id": "e7761042-6907-4691-8010-e1093ec33733",
   "metadata": {},
   "outputs": [],
   "source": [
    "x, y = y, x"
   ]
  },
  {
   "cell_type": "code",
   "execution_count": 16,
   "id": "464328e9-fa2c-4e1c-80d8-b0b8534ac4b3",
   "metadata": {},
   "outputs": [
    {
     "data": {
      "text/plain": [
       "1"
      ]
     },
     "execution_count": 16,
     "metadata": {},
     "output_type": "execute_result"
    }
   ],
   "source": [
    "x"
   ]
  },
  {
   "cell_type": "code",
   "execution_count": 17,
   "id": "d10f1e6a-2b52-41f0-91b1-980e2a341f43",
   "metadata": {},
   "outputs": [
    {
     "data": {
      "text/plain": [
       "2.4"
      ]
     },
     "execution_count": 17,
     "metadata": {},
     "output_type": "execute_result"
    }
   ],
   "source": [
    "y"
   ]
  },
  {
   "cell_type": "markdown",
   "id": "cdeda622-6bba-4735-9c36-0b6c337490af",
   "metadata": {},
   "source": [
    "## Lists of lists"
   ]
  },
  {
   "cell_type": "code",
   "execution_count": 18,
   "id": "180d93ee-14f8-4401-8fd9-ddf52db4eab3",
   "metadata": {},
   "outputs": [],
   "source": [
    "my_list = [1,2,3]"
   ]
  },
  {
   "cell_type": "code",
   "execution_count": 19,
   "id": "f5c378e5-45d2-4423-9495-4c2e14da191e",
   "metadata": {},
   "outputs": [],
   "source": [
    "my_list = [[1,2,3],\n",
    "           [4,5,6],\n",
    "           [7,8,9]]"
   ]
  },
  {
   "cell_type": "code",
   "execution_count": 20,
   "id": "8b705f46-005f-453b-97ed-90f12f371804",
   "metadata": {},
   "outputs": [
    {
     "data": {
      "text/plain": [
       "[1, 2, 3]"
      ]
     },
     "execution_count": 20,
     "metadata": {},
     "output_type": "execute_result"
    }
   ],
   "source": [
    "my_list[0]"
   ]
  },
  {
   "cell_type": "code",
   "execution_count": 21,
   "id": "1708816f-66dc-42ea-8bb4-39758e9b08b9",
   "metadata": {},
   "outputs": [
    {
     "data": {
      "text/plain": [
       "[4, 5, 6]"
      ]
     },
     "execution_count": 21,
     "metadata": {},
     "output_type": "execute_result"
    }
   ],
   "source": [
    "my_list[1]"
   ]
  },
  {
   "cell_type": "code",
   "execution_count": 22,
   "id": "135940cb-359e-40dc-adfc-05fadfe9a294",
   "metadata": {},
   "outputs": [
    {
     "data": {
      "text/plain": [
       "6"
      ]
     },
     "execution_count": 22,
     "metadata": {},
     "output_type": "execute_result"
    }
   ],
   "source": [
    "my_list[1][2]"
   ]
  },
  {
   "cell_type": "code",
   "execution_count": 23,
   "id": "1d0554dd-dc1a-418e-9dfb-84fc9d7a55db",
   "metadata": {},
   "outputs": [
    {
     "data": {
      "text/plain": [
       "[[1, 2, 3], [4, 5, 6], [7, 8, 9]]"
      ]
     },
     "execution_count": 23,
     "metadata": {},
     "output_type": "execute_result"
    }
   ],
   "source": [
    "my_list"
   ]
  },
  {
   "cell_type": "code",
   "execution_count": 24,
   "id": "f17bc5bb-6aaa-40cd-9771-5b21f3365e87",
   "metadata": {},
   "outputs": [
    {
     "name": "stdout",
     "output_type": "stream",
     "text": [
      "[1, 2, 3]\n",
      "[4, 5, 6]\n",
      "[7, 8, 9]\n"
     ]
    }
   ],
   "source": [
    "for row in my_list:\n",
    "    print(row)"
   ]
  },
  {
   "cell_type": "code",
   "execution_count": 25,
   "id": "a3b90ecb-6ce8-49ef-b77f-9d9b47282f90",
   "metadata": {},
   "outputs": [
    {
     "name": "stdout",
     "output_type": "stream",
     "text": [
      "1 2 3\n",
      "4 5 6\n",
      "7 8 9\n"
     ]
    }
   ],
   "source": [
    "for row in my_list:\n",
    "    print(*row)"
   ]
  },
  {
   "cell_type": "code",
   "execution_count": 26,
   "id": "dd3077f8-3d37-4536-a04f-36f81824ca5c",
   "metadata": {},
   "outputs": [],
   "source": [
    "second_column = []\n",
    "for row in my_list:\n",
    "    second_column.append(row[1])"
   ]
  },
  {
   "cell_type": "code",
   "execution_count": 27,
   "id": "b504c3a7-59e5-4b6f-b253-cf790aa22c4f",
   "metadata": {},
   "outputs": [
    {
     "data": {
      "text/plain": [
       "[2, 5, 8]"
      ]
     },
     "execution_count": 27,
     "metadata": {},
     "output_type": "execute_result"
    }
   ],
   "source": [
    "second_column"
   ]
  },
  {
   "cell_type": "code",
   "execution_count": 28,
   "id": "fa2c82a5-6cb5-4f98-bb54-d4019cc83058",
   "metadata": {},
   "outputs": [
    {
     "data": {
      "text/plain": [
       "5.0"
      ]
     },
     "execution_count": 28,
     "metadata": {},
     "output_type": "execute_result"
    }
   ],
   "source": [
    "sum(second_column)/len(second_column)"
   ]
  },
  {
   "cell_type": "code",
   "execution_count": 29,
   "id": "ea33f592-991c-405b-b4c5-09edf46a4be2",
   "metadata": {},
   "outputs": [],
   "source": [
    "data1 = [[4,1,2], [5,2,3], [5,9,2],[9,-3,6],[-1,16,4],[9,5,-1],[0,0,0],[-3,10,15]]"
   ]
  },
  {
   "cell_type": "code",
   "execution_count": 30,
   "id": "e7c8b4a7-f649-428e-bf80-a8e5ee45d543",
   "metadata": {},
   "outputs": [],
   "source": [
    "second_column = []\n",
    "for row in data1:\n",
    "    second_column.append(row[1])\n",
    "average = sum(second_column)/len(second_column)"
   ]
  },
  {
   "cell_type": "code",
   "execution_count": 31,
   "id": "b5db5bb0-0940-4ef1-ad54-f24e6fbbf38c",
   "metadata": {},
   "outputs": [
    {
     "name": "stdout",
     "output_type": "stream",
     "text": [
      "5.0\n"
     ]
    }
   ],
   "source": [
    "print(average)"
   ]
  },
  {
   "cell_type": "code",
   "execution_count": 32,
   "id": "9653fc6b-039e-4eb5-954c-a53040ad028a",
   "metadata": {},
   "outputs": [],
   "source": [
    "data2 = [['4','1','2'], ['5','2','3'], ['5','9','2'],['9','-3','6'],['-1','16','4'],['9','5','-1'],['0','0','0'],['-3','10','15']]"
   ]
  },
  {
   "cell_type": "code",
   "execution_count": 33,
   "id": "796d388a-4242-4f22-b4a7-0348fc229299",
   "metadata": {},
   "outputs": [],
   "source": [
    "second_column = []\n",
    "for row in data2:\n",
    "    second_column.append(int(row[1]))\n",
    "average = sum(second_column)/len(second_column)"
   ]
  },
  {
   "cell_type": "code",
   "execution_count": 34,
   "id": "4eff9124-2dd0-4ba9-8eef-cd1712e23c8b",
   "metadata": {},
   "outputs": [
    {
     "data": {
      "text/plain": [
       "5.0"
      ]
     },
     "execution_count": 34,
     "metadata": {},
     "output_type": "execute_result"
    }
   ],
   "source": [
    "average"
   ]
  },
  {
   "cell_type": "code",
   "execution_count": 35,
   "id": "3cc6a738-6884-4015-a371-3130882d2435",
   "metadata": {},
   "outputs": [],
   "source": [
    "data3 = [['x','y','z'], ['4','1','2'], ['5','2','3'], ['5','9','2'],['9','-3','6'],['-1','16','4'],['9','5','-1'],['0','0','0'],['-3','10','15']]"
   ]
  },
  {
   "cell_type": "code",
   "execution_count": 36,
   "id": "1fe63a94-e311-45da-8261-28ba8eb19211",
   "metadata": {},
   "outputs": [],
   "source": [
    "second_column = []\n",
    "for row in data3[1:]:\n",
    "    second_column.append(int(row[1]))\n",
    "average = sum(second_column)/len(second_column)"
   ]
  },
  {
   "cell_type": "code",
   "execution_count": 37,
   "id": "515cc984-5c63-4ee2-9737-e92ec4e654b9",
   "metadata": {},
   "outputs": [
    {
     "data": {
      "text/plain": [
       "5.0"
      ]
     },
     "execution_count": 37,
     "metadata": {},
     "output_type": "execute_result"
    }
   ],
   "source": [
    "average"
   ]
  },
  {
   "cell_type": "markdown",
   "id": "f5b96535-7ea4-4070-8d0d-5476f609d9cd",
   "metadata": {},
   "source": [
    "## Analyzing Data File"
   ]
  },
  {
   "cell_type": "code",
   "execution_count": 38,
   "id": "ebd21a3c-eca2-4502-8bfb-2a39ea9fc77f",
   "metadata": {},
   "outputs": [],
   "source": [
    "from csv import reader\n",
    "fp = open('PlayStore.csv', encoding='utf-8')\n",
    "csv_object = reader(fp)\n",
    "data = list(csv_object)\n",
    "fp.close()"
   ]
  },
  {
   "cell_type": "code",
   "execution_count": 39,
   "id": "26c24bfd-cf3a-495d-895f-849f2f53c85b",
   "metadata": {},
   "outputs": [],
   "source": [
    "title = data[0]"
   ]
  },
  {
   "cell_type": "code",
   "execution_count": 40,
   "id": "2e6aa03c-b4ae-404a-bb7e-b9c3eba1bc62",
   "metadata": {},
   "outputs": [
    {
     "name": "stdout",
     "output_type": "stream",
     "text": [
      "0 \n",
      "1 App\n",
      "2 Category\n",
      "3 Rating\n",
      "4 Reviews\n",
      "5 Size\n",
      "6 Installs_more_than\n",
      "7 Type\n",
      "8 Price_dollars\n",
      "9 Content Rating\n",
      "10 Genres\n",
      "11 Last Updated\n",
      "12 Current Ver\n",
      "13 Android Ver\n"
     ]
    }
   ],
   "source": [
    "for index,val in enumerate(title):\n",
    "    print(index, val)"
   ]
  },
  {
   "cell_type": "code",
   "execution_count": 41,
   "id": "75935e36-76ca-4e7a-ba65-325bbb3a8bd4",
   "metadata": {},
   "outputs": [
    {
     "data": {
      "text/plain": [
       "['0',\n",
       " 'Photo Editor & Candy Camera & Grid & ScrapBook',\n",
       " 'ART_AND_DESIGN',\n",
       " '4.1',\n",
       " '159',\n",
       " '19M',\n",
       " '10000',\n",
       " 'Free',\n",
       " '0.0',\n",
       " 'Everyone',\n",
       " 'Art & Design',\n",
       " 'January 7, 2018',\n",
       " '1.0.0',\n",
       " '4.0.3 and up']"
      ]
     },
     "execution_count": 41,
     "metadata": {},
     "output_type": "execute_result"
    }
   ],
   "source": [
    "data[1]"
   ]
  },
  {
   "cell_type": "code",
   "execution_count": 42,
   "id": "66344f66-f118-473b-a93b-525c6ac47c48",
   "metadata": {},
   "outputs": [
    {
     "name": "stdout",
     "output_type": "stream",
     "text": [
      "The average rating for free apps is 4.19\n",
      "The average rating for paid apps is 4.27\n"
     ]
    }
   ],
   "source": [
    "free_ratings = []\n",
    "paid_ratings = []\n",
    "for app in data[1:]:\n",
    "    price = float(app[8])\n",
    "    rating = float(app[3])\n",
    "    if price > 0.0:\n",
    "        paid_ratings.append(rating)\n",
    "    else:\n",
    "        free_ratings.append(rating)\n",
    "average_free_rating = sum(free_ratings)/len(free_ratings)\n",
    "average_paid_rating = sum(paid_ratings)/len(paid_ratings)\n",
    "print(f'The average rating for free apps is {average_free_rating:.2f}')\n",
    "print(f'The average rating for paid apps is {average_paid_rating:.2f}')"
   ]
  },
  {
   "cell_type": "markdown",
   "id": "77eaf6f6-c810-4ccc-a82d-cd03e4872756",
   "metadata": {},
   "source": [
    "## Dictionaries"
   ]
  },
  {
   "cell_type": "markdown",
   "id": "a3f14a4d-dbcd-4be2-9996-05e7703c6f70",
   "metadata": {},
   "source": [
    "Key - Value pairs\n",
    "(keys are unique)"
   ]
  },
  {
   "cell_type": "code",
   "execution_count": 43,
   "id": "5804fe57-5a9f-4583-86e8-9a01a50e6470",
   "metadata": {},
   "outputs": [],
   "source": [
    "my_dic = {}"
   ]
  },
  {
   "cell_type": "code",
   "execution_count": 44,
   "id": "83e4208c-d4eb-4979-b273-a1e3be288f9b",
   "metadata": {},
   "outputs": [],
   "source": [
    "my_dic['apples'] = 6"
   ]
  },
  {
   "cell_type": "code",
   "execution_count": 45,
   "id": "dcb6dd7d-5afc-42f0-8cf9-885875921e9d",
   "metadata": {},
   "outputs": [
    {
     "data": {
      "text/plain": [
       "{'apples': 6}"
      ]
     },
     "execution_count": 45,
     "metadata": {},
     "output_type": "execute_result"
    }
   ],
   "source": [
    "my_dic"
   ]
  },
  {
   "cell_type": "code",
   "execution_count": 46,
   "id": "40bbdb88-824e-4513-b80c-41d7dab9301e",
   "metadata": {},
   "outputs": [],
   "source": [
    "my_dic['bananas'] = 12"
   ]
  },
  {
   "cell_type": "code",
   "execution_count": 47,
   "id": "38b12ede-2830-4974-93a4-093e834a13ac",
   "metadata": {},
   "outputs": [],
   "source": [
    "my_dic['oranges'] = 1"
   ]
  },
  {
   "cell_type": "code",
   "execution_count": 48,
   "id": "f237d4c0-b8b3-4ccd-a563-41e94fbce707",
   "metadata": {},
   "outputs": [
    {
     "data": {
      "text/plain": [
       "{'apples': 6, 'bananas': 12, 'oranges': 1}"
      ]
     },
     "execution_count": 48,
     "metadata": {},
     "output_type": "execute_result"
    }
   ],
   "source": [
    "my_dic"
   ]
  },
  {
   "cell_type": "code",
   "execution_count": 49,
   "id": "6c34b354-6b28-4685-bf31-297216b3743b",
   "metadata": {},
   "outputs": [],
   "source": [
    "my_dic['apples'] = 20"
   ]
  },
  {
   "cell_type": "code",
   "execution_count": 50,
   "id": "b261fc23-463b-4704-a0c5-01550f4e5a6c",
   "metadata": {},
   "outputs": [
    {
     "data": {
      "text/plain": [
       "{'apples': 20, 'bananas': 12, 'oranges': 1}"
      ]
     },
     "execution_count": 50,
     "metadata": {},
     "output_type": "execute_result"
    }
   ],
   "source": [
    "my_dic"
   ]
  },
  {
   "cell_type": "code",
   "execution_count": 51,
   "id": "bf673603-636a-4995-bd39-fba2f61b220f",
   "metadata": {},
   "outputs": [
    {
     "data": {
      "text/plain": [
       "12"
      ]
     },
     "execution_count": 51,
     "metadata": {},
     "output_type": "execute_result"
    }
   ],
   "source": [
    "my_dic['bananas']"
   ]
  },
  {
   "cell_type": "code",
   "execution_count": 52,
   "id": "7ca4f111-4e32-4958-8e9a-ce3741aa53cb",
   "metadata": {},
   "outputs": [],
   "source": [
    "my_dict = {'apples': 0, 'bananas': 22, 'oranges': 3}"
   ]
  },
  {
   "cell_type": "code",
   "execution_count": 53,
   "id": "ff7b0b5f-ef83-4531-85e2-4f4a71aa8d7b",
   "metadata": {},
   "outputs": [
    {
     "data": {
      "text/plain": [
       "{'apples': 0, 'bananas': 22, 'oranges': 3}"
      ]
     },
     "execution_count": 53,
     "metadata": {},
     "output_type": "execute_result"
    }
   ],
   "source": [
    "my_dict"
   ]
  },
  {
   "cell_type": "code",
   "execution_count": 54,
   "id": "e0c3ddad-d743-497d-8ce7-2d333e65770f",
   "metadata": {},
   "outputs": [],
   "source": [
    "fruits = {}"
   ]
  },
  {
   "cell_type": "code",
   "execution_count": 55,
   "id": "3f8466fe-e33d-4aa3-9ba0-a7f11660a168",
   "metadata": {},
   "outputs": [],
   "source": [
    "fruits['apple'] = { 'calories': 112, 'color': 'red' }"
   ]
  },
  {
   "cell_type": "code",
   "execution_count": 56,
   "id": "cf160dff-1fb5-4ab9-a4be-84aba7ac11c3",
   "metadata": {},
   "outputs": [
    {
     "data": {
      "text/plain": [
       "{'apple': {'calories': 112, 'color': 'red'}}"
      ]
     },
     "execution_count": 56,
     "metadata": {},
     "output_type": "execute_result"
    }
   ],
   "source": [
    "fruits"
   ]
  },
  {
   "cell_type": "code",
   "execution_count": 57,
   "id": "34657788-3ae0-49c6-bad5-19565399655c",
   "metadata": {},
   "outputs": [],
   "source": [
    "fruits['banana'] = {'calories':181, 'color':'Yellow'}"
   ]
  },
  {
   "cell_type": "code",
   "execution_count": 58,
   "id": "50f5316a-c968-4e69-8189-4fc3c0803e48",
   "metadata": {},
   "outputs": [],
   "source": [
    "fruits['orange'] = {'calories':137, 'color':'Orange'}"
   ]
  },
  {
   "cell_type": "code",
   "execution_count": 59,
   "id": "5306bbf7-57cb-4624-81e4-4ae6131b3d2c",
   "metadata": {},
   "outputs": [
    {
     "data": {
      "text/plain": [
       "{'apple': {'calories': 112, 'color': 'red'},\n",
       " 'banana': {'calories': 181, 'color': 'Yellow'},\n",
       " 'orange': {'calories': 137, 'color': 'Orange'}}"
      ]
     },
     "execution_count": 59,
     "metadata": {},
     "output_type": "execute_result"
    }
   ],
   "source": [
    "fruits"
   ]
  },
  {
   "cell_type": "code",
   "execution_count": 60,
   "id": "c43d068d-6934-4c11-b651-fe3d01033ea5",
   "metadata": {},
   "outputs": [
    {
     "data": {
      "text/plain": [
       "112"
      ]
     },
     "execution_count": 60,
     "metadata": {},
     "output_type": "execute_result"
    }
   ],
   "source": [
    "fruits['apple']['calories']"
   ]
  },
  {
   "cell_type": "code",
   "execution_count": 61,
   "id": "2f462fb1-599b-4bdf-8cb2-c98fb0ebc7df",
   "metadata": {},
   "outputs": [
    {
     "data": {
      "text/plain": [
       "'Yellow'"
      ]
     },
     "execution_count": 61,
     "metadata": {},
     "output_type": "execute_result"
    }
   ],
   "source": [
    "fruits['banana']['color']"
   ]
  },
  {
   "cell_type": "markdown",
   "id": "a6f557e9-6ec9-44da-a027-eb94a35b5e9b",
   "metadata": {},
   "source": [
    "#### Counting with dictionaries"
   ]
  },
  {
   "cell_type": "code",
   "execution_count": 62,
   "id": "06b8be63-0f41-45ab-a284-7840443cd6a0",
   "metadata": {},
   "outputs": [
    {
     "data": {
      "text/plain": [
       "{'ART_AND_DESIGN': 61,\n",
       " 'AUTO_AND_VEHICLES': 73,\n",
       " 'BEAUTY': 42,\n",
       " 'BOOKS_AND_REFERENCE': 178,\n",
       " 'BUSINESS': 303,\n",
       " 'COMICS': 58,\n",
       " 'COMMUNICATION': 328,\n",
       " 'DATING': 195,\n",
       " 'EDUCATION': 155,\n",
       " 'ENTERTAINMENT': 149,\n",
       " 'EVENTS': 45,\n",
       " 'FINANCE': 323,\n",
       " 'FOOD_AND_DRINK': 109,\n",
       " 'HEALTH_AND_FITNESS': 297,\n",
       " 'HOUSE_AND_HOME': 76,\n",
       " 'LIBRARIES_AND_DEMO': 64,\n",
       " 'LIFESTYLE': 314,\n",
       " 'GAME': 1097,\n",
       " 'FAMILY': 1746,\n",
       " 'MEDICAL': 350,\n",
       " 'SOCIAL': 259,\n",
       " 'SHOPPING': 238,\n",
       " 'PHOTOGRAPHY': 317,\n",
       " 'SPORTS': 319,\n",
       " 'TRAVEL_AND_LOCAL': 226,\n",
       " 'TOOLS': 733,\n",
       " 'PERSONALIZATION': 312,\n",
       " 'PRODUCTIVITY': 351,\n",
       " 'PARENTING': 50,\n",
       " 'WEATHER': 75,\n",
       " 'VIDEO_PLAYERS': 160,\n",
       " 'NEWS_AND_MAGAZINES': 233,\n",
       " 'MAPS_AND_NAVIGATION': 124}"
      ]
     },
     "execution_count": 62,
     "metadata": {},
     "output_type": "execute_result"
    }
   ],
   "source": [
    "categories = {}\n",
    "for app in data[1:]:\n",
    "    category = app[2]\n",
    "    if category not in categories:\n",
    "        categories[category] = 1\n",
    "    else:\n",
    "        categories[category] += 1\n",
    "categories"
   ]
  },
  {
   "cell_type": "code",
   "execution_count": null,
   "id": "e4c3eb0e-2565-4c54-a94d-4d8e0904a0d0",
   "metadata": {},
   "outputs": [],
   "source": []
  }
 ],
 "metadata": {
  "kernelspec": {
   "display_name": "Python 3 (ipykernel)",
   "language": "python",
   "name": "python3"
  },
  "language_info": {
   "codemirror_mode": {
    "name": "ipython",
    "version": 3
   },
   "file_extension": ".py",
   "mimetype": "text/x-python",
   "name": "python",
   "nbconvert_exporter": "python",
   "pygments_lexer": "ipython3",
   "version": "3.9.7"
  }
 },
 "nbformat": 4,
 "nbformat_minor": 5
}
