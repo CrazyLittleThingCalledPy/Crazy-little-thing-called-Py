{
 "cells": [
  {
   "cell_type": "markdown",
   "metadata": {},
   "source": [
    "# Crazy little thing called Py - Exercise lesson 2\n",
    "by Dr. Tal Alon"
   ]
  },
  {
   "cell_type": "markdown",
   "metadata": {},
   "source": [
    "### Question 1"
   ]
  },
  {
   "cell_type": "markdown",
   "metadata": {},
   "source": [
    "#### 1a\n",
    "\n",
    "import the random module and use the ‘growing list’ method we saw in class (where we start with an empty list and keep appending items to it), and the randint method, to create a list of 10000 random integers that are between 0 and 10 (including 0 and 10)"
   ]
  },
  {
   "cell_type": "code",
   "execution_count": null,
   "metadata": {},
   "outputs": [],
   "source": []
  },
  {
   "cell_type": "markdown",
   "metadata": {},
   "source": [
    "#### 1b\n",
    "Calculate the average of the array of numbers. Before running your code try to predict the result… what do you expect to find? Run you code."
   ]
  },
  {
   "cell_type": "code",
   "execution_count": null,
   "metadata": {},
   "outputs": [],
   "source": []
  },
  {
   "cell_type": "markdown",
   "metadata": {},
   "source": [
    "#### 1c\n",
    "Create a frequency table, using a dictionary, as shown at class, that will count the number of times each number appears in the list (how many 0’s, how many 1’s etc.). You can use the integer values as the dictionary keys (they do not have to be strings)."
   ]
  },
  {
   "cell_type": "code",
   "execution_count": null,
   "metadata": {},
   "outputs": [],
   "source": []
  },
  {
   "cell_type": "markdown",
   "metadata": {},
   "source": [
    "#### 1d\n",
    "Write down your conclusion from you experiment in the markdown cell below. Did you get what you expected? Does the randomness seem OK?"
   ]
  },
  {
   "cell_type": "markdown",
   "metadata": {},
   "source": []
  },
  {
   "cell_type": "markdown",
   "metadata": {},
   "source": [
    "### Question 2"
   ]
  },
  {
   "cell_type": "markdown",
   "metadata": {},
   "source": [
    "Below, I already entered the code for loading the PlayStore.csv file and transforming it into a list of lists (run it using shift+enter). Please write code that will answer the following questions:"
   ]
  },
  {
   "cell_type": "code",
   "execution_count": 1,
   "metadata": {},
   "outputs": [],
   "source": [
    "from csv import reader\n",
    "fp = open('PlayStore.csv', encoding='utf-8')\n",
    "csv_object = reader(fp)\n",
    "data = list(csv_object)\n",
    "fp.close()"
   ]
  },
  {
   "cell_type": "code",
   "execution_count": 2,
   "metadata": {},
   "outputs": [
    {
     "name": "stdout",
     "output_type": "stream",
     "text": [
      "0 : \n",
      "1 : App\n",
      "2 : Category\n",
      "3 : Rating\n",
      "4 : Reviews\n",
      "5 : Size\n",
      "6 : Installs_more_than\n",
      "7 : Type\n",
      "8 : Price_dollars\n",
      "9 : Content Rating\n",
      "10 : Genres\n",
      "11 : Last Updated\n",
      "12 : Current Ver\n",
      "13 : Android Ver\n"
     ]
    }
   ],
   "source": [
    "for i,col in enumerate(data[0]):\n",
    "    print(i,':',col)"
   ]
  },
  {
   "cell_type": "markdown",
   "metadata": {},
   "source": [
    "#### 2a\n",
    "Do apps in the GAME category have higher average rating than apps in other categories?"
   ]
  },
  {
   "cell_type": "code",
   "execution_count": null,
   "metadata": {},
   "outputs": [],
   "source": []
  },
  {
   "cell_type": "markdown",
   "metadata": {},
   "source": [
    "#### 2b\n",
    "How many genres of games are there? What is the most ferquent game genre (has the most games)?\n",
    "\n",
    "Tips: \n",
    "- ‘Genres’ values are in column 10\n",
    "- Use a dictionary to create a frequency table\n",
    "- In order to find the maximum value in the dictionary and print out its key you can iterate (loop) over it."
   ]
  },
  {
   "cell_type": "code",
   "execution_count": null,
   "metadata": {},
   "outputs": [],
   "source": []
  },
  {
   "cell_type": "markdown",
   "metadata": {},
   "source": [
    "#### 2c\n",
    "Select some other test that can answer a question about the apps data, write the code to find the answer and create a markdown cell below to explain the results."
   ]
  },
  {
   "cell_type": "code",
   "execution_count": null,
   "metadata": {},
   "outputs": [],
   "source": []
  }
 ],
 "metadata": {
  "kernelspec": {
   "display_name": "Python 3 (ipykernel)",
   "language": "python",
   "name": "python3"
  },
  "language_info": {
   "codemirror_mode": {
    "name": "ipython",
    "version": 3
   },
   "file_extension": ".py",
   "mimetype": "text/x-python",
   "name": "python",
   "nbconvert_exporter": "python",
   "pygments_lexer": "ipython3",
   "version": "3.9.7"
  }
 },
 "nbformat": 4,
 "nbformat_minor": 4
}
